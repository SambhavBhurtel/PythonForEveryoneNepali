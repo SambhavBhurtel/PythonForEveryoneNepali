{
 "cells": [
  {
   "cell_type": "markdown",
   "metadata": {},
   "source": [
    "# Flow Control in Python"
   ]
  },
  {
   "cell_type": "markdown",
   "metadata": {},
   "source": [
    "## Conditional Statements"
   ]
  },
  {
   "cell_type": "markdown",
   "metadata": {},
   "source": [
    "## if statement"
   ]
  },
  {
   "cell_type": "code",
   "execution_count": 1,
   "metadata": {},
   "outputs": [
    {
     "name": "stdout",
     "output_type": "stream",
     "text": [
      "Hello python\n"
     ]
    }
   ],
   "source": [
    "if True: ## here the condition is true so the print statement is executed\n",
    "    print(\"Hello python\")"
   ]
  },
  {
   "cell_type": "markdown",
   "metadata": {},
   "source": [
    "## example"
   ]
  },
  {
   "cell_type": "code",
   "execution_count": 7,
   "metadata": {},
   "outputs": [
    {
     "name": "stdin",
     "output_type": "stream",
     "text": [
      "a:- 2\n",
      "b:- 1\n"
     ]
    },
    {
     "name": "stdout",
     "output_type": "stream",
     "text": [
      "a is greater than b\n"
     ]
    }
   ],
   "source": [
    "a=input(\"a:-\")\n",
    "b=input(\"b:-\")\n",
    "if a>b:\n",
    "    print(\"a is greater than b\")"
   ]
  },
  {
   "cell_type": "code",
   "execution_count": 4,
   "metadata": {
    "collapsed": true
   },
   "outputs": [],
   "source": [
    "if False: ## here the condition is false so the print statement is not executed\n",
    "    print(\"Hello python\")"
   ]
  },
  {
   "cell_type": "markdown",
   "metadata": {},
   "source": [
    "## example"
   ]
  },
  {
   "cell_type": "code",
   "execution_count": 8,
   "metadata": {},
   "outputs": [
    {
     "name": "stdin",
     "output_type": "stream",
     "text": [
      "a:- 1\n",
      "b:- 2\n"
     ]
    }
   ],
   "source": [
    "a=input(\"a:-\")\n",
    "b=input(\"b:-\")\n",
    "if a>b:\n",
    "    print(\"a is greater than b\")"
   ]
  },
  {
   "cell_type": "markdown",
   "metadata": {},
   "source": [
    "Note: 1)you should not forget to write (:) after if statements.<br>\n",
    "      2)you must take care of the indentation as it plays great role in python. "
   ]
  },
  {
   "cell_type": "markdown",
   "metadata": {},
   "source": [
    "### Indentation importance "
   ]
  },
  {
   "cell_type": "code",
   "execution_count": 3,
   "metadata": {},
   "outputs": [
    {
     "ename": "IndentationError",
     "evalue": "expected an indented block (<ipython-input-3-627bb96c10e2>, line 2)",
     "output_type": "error",
     "traceback": [
      "\u001b[1;36m  File \u001b[1;32m\"<ipython-input-3-627bb96c10e2>\"\u001b[1;36m, line \u001b[1;32m2\u001b[0m\n\u001b[1;33m    print(\"1 is greater than 0\")  ## here the indentation of the print statement is not proper\u001b[0m\n\u001b[1;37m        ^\u001b[0m\n\u001b[1;31mIndentationError\u001b[0m\u001b[1;31m:\u001b[0m expected an indented block\n"
     ]
    }
   ],
   "source": [
    "if (1>0): \n",
    "print(\"1 is greater than 0\")  ## here the indentation of the print statement is not proper\n",
    " ## statements that are to be executed when the condition is true should be kept inside the if statement."
   ]
  },
  {
   "cell_type": "code",
   "execution_count": 6,
   "metadata": {},
   "outputs": [
    {
     "name": "stdout",
     "output_type": "stream",
     "text": [
      "1 is greater than 0\n"
     ]
    }
   ],
   "source": [
    "if (1>0):\n",
    "    print(\"1 is greater than 0\")"
   ]
  },
  {
   "cell_type": "markdown",
   "metadata": {},
   "source": [
    "## else statements"
   ]
  },
  {
   "cell_type": "code",
   "execution_count": 3,
   "metadata": {},
   "outputs": [
    {
     "name": "stdout",
     "output_type": "stream",
     "text": [
      "condition is not true\n"
     ]
    }
   ],
   "source": [
    "condition=False ## condition variable is assaigned false value \n",
    "if condition:   ## here if condition becomes false \n",
    "    print(\"condition is true\") ## so this print statement is not executed\n",
    "else:\n",
    "    print(\"condition is not true\") ## so the print statement inside the else condition is executed    "
   ]
  },
  {
   "cell_type": "markdown",
   "metadata": {},
   "source": [
    "## example"
   ]
  },
  {
   "cell_type": "code",
   "execution_count": 13,
   "metadata": {},
   "outputs": [
    {
     "name": "stdin",
     "output_type": "stream",
     "text": [
      "a:- 1\n",
      "b:- 2\n"
     ]
    },
    {
     "name": "stdout",
     "output_type": "stream",
     "text": [
      "2 is greater than 1\n"
     ]
    }
   ],
   "source": [
    "a=input(\"a:-\")\n",
    "b=input(\"b:-\")\n",
    "if a>b:\n",
    "    print(f\"{a} is greater than {b}\")\n",
    "else:\n",
    "    print(f\"{b} is greater than {a}\")\n",
    "    "
   ]
  },
  {
   "cell_type": "markdown",
   "metadata": {},
   "source": [
    "## PROGRAM TO CHECK WHETHER THE STRING IS PALINDROME OR NOT"
   ]
  },
  {
   "cell_type": "code",
   "execution_count": 12,
   "metadata": {},
   "outputs": [
    {
     "name": "stdout",
     "output_type": "stream",
     "text": [
      "string is palindrome\n"
     ]
    }
   ],
   "source": [
    "str1 = 'Live on time,emit no evil'\n",
    "st =\"\".join(reversed(str1))\n",
    "str1=str1.lower();st=st.lower()\n",
    "if(str1==st):\n",
    "    print(\"string is palindrome\")\n",
    "else:\n",
    "    print(\"string is not a palindrome\")"
   ]
  },
  {
   "cell_type": "markdown",
   "metadata": {},
   "source": [
    "## inline if "
   ]
  },
  {
   "cell_type": "code",
   "execution_count": 32,
   "metadata": {},
   "outputs": [
    {
     "name": "stdout",
     "output_type": "stream",
     "text": [
      "Hello Python,condition is true\n"
     ]
    }
   ],
   "source": [
    "condition=True\n",
    "print('Hello Python,condition is true' if condition else 'conditon is false')"
   ]
  },
  {
   "cell_type": "markdown",
   "metadata": {},
   "source": [
    "## example"
   ]
  },
  {
   "cell_type": "code",
   "execution_count": 10,
   "metadata": {},
   "outputs": [
    {
     "name": "stdin",
     "output_type": "stream",
     "text": [
      "a:- 1\n",
      "b:- 2\n"
     ]
    },
    {
     "name": "stdout",
     "output_type": "stream",
     "text": [
      "2 is greater than 1\n"
     ]
    }
   ],
   "source": [
    "a=input(\"a:-\")\n",
    "b=input(\"b:-\")\n",
    "print(f\"{a} is greater than {b}\" if a>b else f\"{b} is greater than {a}\")"
   ]
  },
  {
   "cell_type": "code",
   "execution_count": 39,
   "metadata": {},
   "outputs": [
    {
     "name": "stdout",
     "output_type": "stream",
     "text": [
      "conditon is false\n",
      "Hello python,condition is true\n"
     ]
    }
   ],
   "source": [
    "condition=False\n",
    "print(('conditon is false','Hello python,condition is true') [condition])  ## using tuple data type ,will be described later \n",
    "## Conditions are evaluated from left to right\n",
    "condition=True\n",
    "print({True:'Hello python,condition is true',False:'conditon is false'} [condition]) ## using dictionary data type, will be described later"
   ]
  },
  {
   "cell_type": "markdown",
   "metadata": {},
   "source": [
    "## example"
   ]
  },
  {
   "cell_type": "code",
   "execution_count": 12,
   "metadata": {},
   "outputs": [
    {
     "name": "stdin",
     "output_type": "stream",
     "text": [
      "a:- 1\n",
      "b:- 2\n"
     ]
    },
    {
     "name": "stdout",
     "output_type": "stream",
     "text": [
      "2 is greater than 1\n"
     ]
    }
   ],
   "source": [
    "a=input(\"a:-\")\n",
    "b=input(\"b:-\")\n",
    "print((f\"{b} is greater than {a}\",f\"{a} is greater than {b}\") [a>b])\n",
    "       "
   ]
  },
  {
   "cell_type": "markdown",
   "metadata": {},
   "source": [
    "## elif statements"
   ]
  },
  {
   "cell_type": "code",
   "execution_count": 10,
   "metadata": {},
   "outputs": [
    {
     "name": "stdout",
     "output_type": "stream",
     "text": [
      "condition 2 is true\n"
     ]
    }
   ],
   "source": [
    "condition2=True;condition1=False\n",
    "if condition1:  ## here condition becomes false \n",
    "    print(\"condition 1 is true\") ## so this print statement is not executed\n",
    "elif condition2:  ## here condition becomes true\n",
    "    print(\"condition 2 is true\") ## so this print statement is  executed\n",
    "else :\n",
    "    print(\"conditions are not true\") ## if both conditions were false then this print statement will be executed"
   ]
  },
  {
   "cell_type": "markdown",
   "metadata": {},
   "source": [
    "## example"
   ]
  },
  {
   "cell_type": "code",
   "execution_count": 14,
   "metadata": {},
   "outputs": [
    {
     "name": "stdin",
     "output_type": "stream",
     "text": [
      "a:- 1\n",
      "b:- 1\n"
     ]
    },
    {
     "name": "stdout",
     "output_type": "stream",
     "text": [
      "1 is equals to 1\n"
     ]
    }
   ],
   "source": [
    "a=input(\"a:-\")\n",
    "b=input(\"b:-\")\n",
    "if a>b:\n",
    "    print(f\"{a} is greater than {b}\")\n",
    "elif b>a:\n",
    "    print(f\"{b} is greater than {a}\")\n",
    "else:\n",
    "    print(\"{} is equals to {}\".format(a,b))"
   ]
  },
  {
   "cell_type": "markdown",
   "metadata": {},
   "source": [
    "## Nested if statements"
   ]
  },
  {
   "cell_type": "markdown",
   "metadata": {},
   "source": [
    "if statement inside another if statement is known as nested if statement"
   ]
  },
  {
   "cell_type": "code",
   "execution_count": 11,
   "metadata": {},
   "outputs": [
    {
     "name": "stdout",
     "output_type": "stream",
     "text": [
      "both condition 1 and 2 are ture\n"
     ]
    }
   ],
   "source": [
    "condition1=True;condition2=True;condition3=True;condition4:True\n",
    "if condition1:   ## here condition becomes true \n",
    "    if condition2:  ## so this if statement is executed, here condition becomes true\n",
    "        print(\"both condition 1 and 2 are ture\") ## so this print statement is executed\n",
    "    else:\n",
    "        print(\"condition 2 is not true\") ## if condition1 is true and condition2 is false then this print is executed\n",
    "elif condition3: ## the above if condition is satisfied so this elif statement is not executed\n",
    "    if condition4:\n",
    "        print(\"both condition 3 and 4 are true\")\n",
    "    else:\n",
    "        print(\"condition 4 is not true\")\n",
    "else :   ## if both if statement and elif statements are not executed then this else statementis executed \n",
    "    print (\"all the conditions are false\")"
   ]
  },
  {
   "cell_type": "markdown",
   "metadata": {},
   "source": [
    "## example"
   ]
  },
  {
   "cell_type": "code",
   "execution_count": 15,
   "metadata": {},
   "outputs": [
    {
     "name": "stdin",
     "output_type": "stream",
     "text": [
      "a:- 1\n",
      "b:- 1\n",
      "c:- 1\n"
     ]
    },
    {
     "name": "stdout",
     "output_type": "stream",
     "text": [
      "1 is equals to 1 is equals to 1\n"
     ]
    }
   ],
   "source": [
    "a=input(\"a:-\")\n",
    "b=input(\"b:-\")\n",
    "c=input(\"c:-\")\n",
    "if a>b:\n",
    "    if a>c:\n",
    "        print(\"{} is greatest\".format(a))\n",
    "elif b>a:\n",
    "    if b>c:\n",
    "        print(f\"{b} is greatest\")\n",
    "elif c>a:\n",
    "    if c>b:\n",
    "        print(f\"{c} is greatest\")\n",
    "else:\n",
    "    print(f\"{a} is equals to {b} is equals to {c}\")"
   ]
  },
  {
   "cell_type": "markdown",
   "metadata": {},
   "source": [
    "## Implementation of switch in python"
   ]
  },
  {
   "cell_type": "markdown",
   "metadata": {},
   "source": [
    "if the condition provided for switch statement is true then specific case statement is executed"
   ]
  },
  {
   "cell_type": "markdown",
   "metadata": {},
   "source": [
    "we don't have switch and case keyword in python so we do it by using dictionary mappings"
   ]
  },
  {
   "cell_type": "code",
   "execution_count": 18,
   "metadata": {
    "collapsed": true
   },
   "outputs": [],
   "source": [
    " def week(i): ## defining a function with name week and parameter as i\n",
    "        switcher={      ## defining a dictionary with with switcher\n",
    "                0:'Sunday',   ## assaigning key and value into the dictionary\n",
    "                1:'Monday',    ## assaigning key and value into the dictionary\n",
    "                2:'Tuesday',     ## assaigning key and value into the dictionary\n",
    "                3:'Wednesday',    ## assaigning key and value into the dictionary\n",
    "                4:'Thursday',    ## assaigning key and value into the dictionary\n",
    "                5:'Friday',    ## assaigning key and value into the dictionary\n",
    "                6:'Saturday'   ## assaigning key and value into the dictionary\n",
    "                 }\n",
    "        return switcher.get(i,\"Invalid day of week\") ## returns the respective value for the user inputted key \n",
    "                                             ## if value of i does not belong to the key of dictionary then \"Invalid day of week\" is printed"
   ]
  },
  {
   "cell_type": "code",
   "execution_count": 19,
   "metadata": {},
   "outputs": [
    {
     "data": {
      "text/plain": [
       "'Tuesday'"
      ]
     },
     "execution_count": 19,
     "metadata": {},
     "output_type": "execute_result"
    }
   ],
   "source": [
    "week(2) ## calling a function by passing 2 as key value parameter, so tuesday is displayed."
   ]
  },
  {
   "cell_type": "markdown",
   "metadata": {},
   "source": [
    "# Looping Statements"
   ]
  },
  {
   "cell_type": "markdown",
   "metadata": {},
   "source": [
    "## for statement"
   ]
  },
  {
   "cell_type": "markdown",
   "metadata": {},
   "source": [
    "for statement executes the statement inside it for user specified times"
   ]
  },
  {
   "cell_type": "markdown",
   "metadata": {},
   "source": [
    "Here we use a built-in function range() to specify the how many times the statements is to be executed"
   ]
  },
  {
   "cell_type": "code",
   "execution_count": 3,
   "metadata": {},
   "outputs": [
    {
     "name": "stdout",
     "output_type": "stream",
     "text": [
      "Hello python\n",
      "i= 0\n",
      "Hello python\n",
      "i= 1\n",
      "Hello python\n",
      "i= 2\n",
      "Hello python\n",
      "i= 3\n",
      "Hello python\n",
      "i= 4\n",
      "Hello python\n",
      "i= 5\n",
      "Hello python\n",
      "i= 6\n",
      "Hello python\n",
      "i= 7\n",
      "Hello python\n",
      "i= 8\n",
      "Hello python\n",
      "i= 9\n"
     ]
    }
   ],
   "source": [
    "## print \"hello python\" 10 times.\n",
    "for i in range(10):       ##here for loop is used and the value of i ranges from 0to 9 .\n",
    "    print(\"Hello python\") ## this print statement is executed for 10 times .\n",
    "    print(\"i=\",i)   ## here value of i changes in each loop inceasing by 1 from 0 to 9"
   ]
  },
  {
   "cell_type": "markdown",
   "metadata": {},
   "source": [
    "more in range"
   ]
  },
  {
   "cell_type": "code",
   "execution_count": 16,
   "metadata": {},
   "outputs": [
    {
     "name": "stdout",
     "output_type": "stream",
     "text": [
      "i= 0\n",
      "i= 2\n",
      "i= 4\n",
      "i= 6\n",
      "i= 8\n",
      "i= 10\n",
      "i= 12\n",
      "i= 14\n",
      "i= 16\n",
      "i= 18\n",
      "i= 20\n"
     ]
    }
   ],
   "source": [
    "## print even numbers from 0 to 20\n",
    "for i in range(0,21,2): ## range(initial,final,step)\n",
    "    print(\"i=\",i)       ##here value of i increases by 2 from 0 to 20"
   ]
  },
  {
   "cell_type": "markdown",
   "metadata": {},
   "source": [
    "## for loop in list"
   ]
  },
  {
   "cell_type": "markdown",
   "metadata": {},
   "source": [
    "we can easily loop through the items of the list using the for loop "
   ]
  },
  {
   "cell_type": "code",
   "execution_count": 6,
   "metadata": {},
   "outputs": [
    {
     "name": "stdout",
     "output_type": "stream",
     "text": [
      "name= cow\n",
      "name length= 3\n",
      "name= dog\n",
      "name length= 3\n",
      "name= goat\n",
      "name length= 4\n",
      "name= horse\n",
      "name length= 5\n",
      "name= camel\n",
      "name length= 5\n"
     ]
    }
   ],
   "source": [
    "## counting the length of words in list \n",
    "animals=[\"cow\",\"dog\",\"goat\",\"horse\",\"camel\"]  ## here we are assigning the items in the list as animal names.\n",
    "for i in animals:  ## here the for loop iterates through the items of list. \n",
    "    print(\"name=\",i) ## prints the name of animals from the list one by one.\n",
    "    print(\"name length=\",len(i)) ## len is a built-in function that counts the items returns the integer."
   ]
  },
  {
   "cell_type": "markdown",
   "metadata": {},
   "source": [
    "## use of continue in  for loop"
   ]
  },
  {
   "cell_type": "code",
   "execution_count": 17,
   "metadata": {},
   "outputs": [
    {
     "name": "stdout",
     "output_type": "stream",
     "text": [
      "Found an even number 2\n",
      "Found an odd number 3\n",
      "Found an even number 4\n",
      "Found an odd number 5\n",
      "Found an even number 6\n",
      "Found an odd number 7\n",
      "Found an even number 8\n",
      "Found an odd number 9\n",
      "Found an even number 10\n"
     ]
    }
   ],
   "source": [
    "## print even and odd number from 2 to 10.\n",
    "for num in range(2, 11): ## here the loop iterates through 2 to 10 increased by 1\n",
    "    if num % 2 == 0:    ## checking if the number is even or not\n",
    "        print(\"Found an even number\", num) ## if the number is even then this statement executes \n",
    "        continue       ## continue continues the loop skiping the statement from the point it is encountered. \n",
    "    print(\"Found an odd number\", num) ## here if if statement is not executed then this print statement is executed "
   ]
  },
  {
   "cell_type": "markdown",
   "metadata": {},
   "source": [
    "## use of break in for loop"
   ]
  },
  {
   "cell_type": "markdown",
   "metadata": {},
   "source": [
    "search user inputted name of fruit in the list"
   ]
  },
  {
   "cell_type": "code",
   "execution_count": 4,
   "metadata": {},
   "outputs": [
    {
     "name": "stdin",
     "output_type": "stream",
     "text": [
      "enter the name of fruit:- licchi\n"
     ]
    },
    {
     "name": "stdout",
     "output_type": "stream",
     "text": [
      "licchi not found\n"
     ]
    }
   ],
   "source": [
    "bucket=[\"apple\",\"mango\",\"orange\",\"coconut\",\"banana\",\"pineapple\",\"strawberry\"]\n",
    "name=input(\"enter the name of fruit:-\")\n",
    "for i in bucket:\n",
    "    if i==name:\n",
    "        print(\"{} found\".format(i))  ## formatted print statement\n",
    "        break   ## break exits the loop and executes the statements outside the loop \n",
    "else:           ## this else executes when the break statement is not executed\n",
    "    print(f\"{name} not found\")  ## formatted print statement\n",
    "        "
   ]
  },
  {
   "cell_type": "markdown",
   "metadata": {},
   "source": [
    "## loops in string in python"
   ]
  },
  {
   "cell_type": "code",
   "execution_count": 2,
   "metadata": {},
   "outputs": [
    {
     "name": "stdout",
     "output_type": "stream",
     "text": [
      "H-e-l-l-o- -p-y-t-h-o-n-\n",
      "\n"
     ]
    }
   ],
   "source": [
    "name = \"Hello python\" \n",
    "for element in name: ## iterates through the letters in the string\n",
    "    print(element, end='-')  ## end is built-in function to specify the ending character. \n",
    "print(\"\\n\")   ## \\n is an escape sequence that prints the new line ."
   ]
  },
  {
   "cell_type": "code",
   "execution_count": 3,
   "metadata": {},
   "outputs": [
    {
     "name": "stdout",
     "output_type": "stream",
     "text": [
      "H\n",
      "\n",
      "e\n",
      "\n",
      "l\n",
      "\n",
      "l\n",
      "\n",
      "o\n",
      "\n",
      " \n",
      "\n",
      "p\n",
      "\n",
      "y\n",
      "\n",
      "t\n",
      "\n",
      "h\n",
      "\n",
      "o\n",
      "\n",
      "n\n",
      "\n"
     ]
    }
   ],
   "source": [
    "for element in name: ## iterates through the letters in the string\n",
    "    print(element, end='')  ## end is built-in function to specify the ending character. \n",
    "    print(\"\\n\")   ## \\n is an escape sequence that prints the new line ."
   ]
  },
  {
   "cell_type": "markdown",
   "metadata": {},
   "source": [
    "## count a letter in  the string ."
   ]
  },
  {
   "cell_type": "code",
   "execution_count": 15,
   "metadata": {},
   "outputs": [
    {
     "name": "stdin",
     "output_type": "stream",
     "text": [
      "Enter the letter to be searched:- l\n"
     ]
    },
    {
     "name": "stdout",
     "output_type": "stream",
     "text": [
      "3 letters found\n"
     ]
    }
   ],
   "source": [
    "count = 0\n",
    "choice=input(\"Enter the letter to be searched:-\")\n",
    "for l in \"Hello World\":\n",
    "    if l == choice:\n",
    "        count += 1\n",
    "print(f'{count} letters found')"
   ]
  },
  {
   "cell_type": "markdown",
   "metadata": {},
   "source": [
    "## while statement in Python"
   ]
  },
  {
   "cell_type": "markdown",
   "metadata": {},
   "source": [
    "add the numbers from 0 to 9"
   ]
  },
  {
   "cell_type": "code",
   "execution_count": 1,
   "metadata": {},
   "outputs": [
    {
     "name": "stdout",
     "output_type": "stream",
     "text": [
      "n= 0\n",
      "n= 1\n",
      "n= 2\n",
      "n= 3\n",
      "n= 4\n",
      "n= 5\n",
      "n= 6\n",
      "n= 7\n",
      "n= 8\n",
      "n= 9\n",
      "The sum is :- 45\n"
     ]
    }
   ],
   "source": [
    "sum=0  ## initializing the values \n",
    "n=0\n",
    "while (n<10): ## this continues the loop if the value of n is less than 10\n",
    "    sum=sum+n\n",
    "    print(\"n=\",n)\n",
    "    n+=1       ## increasing the value of n by 1\n",
    "print(\"The sum is :-\",sum)    "
   ]
  },
  {
   "cell_type": "markdown",
   "metadata": {},
   "source": [
    "use of continue statement in while loop"
   ]
  },
  {
   "cell_type": "code",
   "execution_count": 1,
   "metadata": {},
   "outputs": [
    {
     "name": "stdout",
     "output_type": "stream",
     "text": [
      "n= 0\n",
      "n= 1\n",
      "n= 2\n",
      "n= 3\n",
      "n= 4\n",
      "n= 6\n",
      "n= 7\n",
      "n= 8\n",
      "n= 9\n"
     ]
    }
   ],
   "source": [
    "## print number from 0 to 9 without 5\n",
    "n=0 ## assaigning the value to n\n",
    "while (n<10): ## loop iterates until the value of n is less than 10\n",
    "    if n==5:\n",
    "        n+=1\n",
    "        continue ## if value of n=5 then print statement is skipped so 5 will not be printed,loop continues next iteration\n",
    "    print('n=',n) \n",
    "    n+=1\n",
    "                \n",
    "        "
   ]
  },
  {
   "cell_type": "markdown",
   "metadata": {},
   "source": [
    "use of break statement in while loop"
   ]
  },
  {
   "cell_type": "code",
   "execution_count": 2,
   "metadata": {},
   "outputs": [
    {
     "name": "stdout",
     "output_type": "stream",
     "text": [
      "n= 0\n",
      "n= 1\n",
      "n= 2\n",
      "n= 3\n",
      "n= 4\n"
     ]
    }
   ],
   "source": [
    "n=0 ## assaigning the value to n\n",
    "while (n<10): ## loop iterates until the value of n is less than 10\n",
    "    if n==5:\n",
    "        break ## if value of n=5 then the loop exits ,so numbers after 5 will not be printed\n",
    "    print(\"n=\",n)\n",
    "    n+=1"
   ]
  },
  {
   "cell_type": "markdown",
   "metadata": {},
   "source": [
    "# List Comprehension in Python"
   ]
  },
  {
   "cell_type": "code",
   "execution_count": 5,
   "metadata": {},
   "outputs": [
    {
     "name": "stdout",
     "output_type": "stream",
     "text": [
      "ram\n",
      "hari\n",
      "krishna\n"
     ]
    }
   ],
   "source": [
    "## list compreshension provides a concise way to create a list.\n",
    "## The syntax for list comprehension are:\n",
    "#[exp for i in list]\n",
    "#[exp for i in list if <test>]\n",
    "\n",
    "## program without using list comprehension\n",
    "## print each item of list\n",
    "lst = ['ram','hari','krishna']\n",
    "\n",
    "for i in range(0,len(lst)):\n",
    "    print(lst[i])"
   ]
  },
  {
   "cell_type": "code",
   "execution_count": 10,
   "metadata": {},
   "outputs": [
    {
     "data": {
      "text/plain": [
       "['ram', 'hari', 'krishna']"
      ]
     },
     "execution_count": 10,
     "metadata": {},
     "output_type": "execute_result"
    }
   ],
   "source": [
    "## program using list comprehension\n",
    "\n",
    "[name for name in lst]\n"
   ]
  },
  {
   "cell_type": "code",
   "execution_count": 7,
   "metadata": {},
   "outputs": [
    {
     "name": "stdout",
     "output_type": "stream",
     "text": [
      "[2, 4, 8, 10]\n"
     ]
    }
   ],
   "source": [
    "## program to print the twice of number if it is positive\n",
    "\n",
    "lst1 = [1,-1,2,-3,4,5]\n",
    "\n",
    "new_lst1 = [item*2 for item in lst1 if item >= 0]\n",
    "\n",
    "print(new_lst1)"
   ]
  },
  {
   "cell_type": "markdown",
   "metadata": {},
   "source": [
    "# Dictionary Comprehension in Python"
   ]
  },
  {
   "cell_type": "code",
   "execution_count": 88,
   "metadata": {},
   "outputs": [
    {
     "name": "stdout",
     "output_type": "stream",
     "text": [
      "('a', 1)\n",
      "('b', 2)\n",
      "('c', 3)\n"
     ]
    }
   ],
   "source": [
    "#Dict comprehensions are just like list comprehensions but for dictionaries\n",
    "\n",
    "d = {'a': 1, 'b': 2, 'c': 3}\n",
    "for pair in d.items():\n",
    "    print(pair)"
   ]
  },
  {
   "cell_type": "code",
   "execution_count": 89,
   "metadata": {},
   "outputs": [
    {
     "name": "stdout",
     "output_type": "stream",
     "text": [
      "{'c': 3, 'd': 4}\n"
     ]
    }
   ],
   "source": [
    "#Creating a new dictionary with only pairs where the value is larger than 2\n",
    "d = {'a': 1, 'b': 2, 'c': 3, 'd': 4}\n",
    "new_dict = {k:v for k, v in d.items() if v > 2}\n",
    "print(new_dict)"
   ]
  },
  {
   "cell_type": "code",
   "execution_count": 90,
   "metadata": {},
   "outputs": [
    {
     "name": "stdout",
     "output_type": "stream",
     "text": [
      "{'cc': 6, 'dc': 8, 'ec': 10}\n"
     ]
    }
   ],
   "source": [
    "#We can also perform operations on the key value pairs\n",
    "d = {'a':1,'b':2,'c':3,'d':4,'e':5}\n",
    "d = {k + 'c':v * 2 for k, v in d.items() if v > 2}\n",
    "print(d)"
   ]
  },
  {
   "cell_type": "markdown",
   "metadata": {},
   "source": [
    "# How enumerate() works in Python?"
   ]
  },
  {
   "cell_type": "markdown",
   "metadata": {},
   "source": [
    "The enumerate() method adds counter to an iterable and returns it. The returned object is a enumerate object."
   ]
  },
  {
   "cell_type": "code",
   "execution_count": 4,
   "metadata": {},
   "outputs": [
    {
     "name": "stdout",
     "output_type": "stream",
     "text": [
      "[(0, 'dell'), (1, 'lenovo'), (2, 'hp'), (3, 'toshiba'), (4, 'acer')]\n",
      "((10, 'dell'), (11, 'lenovo'), (12, 'hp'), (13, 'toshiba'), (14, 'acer'))\n"
     ]
    }
   ],
   "source": [
    "brands = ['dell', 'lenovo', 'hp','toshiba','acer']\n",
    "print(list(enumerate(brands))) ## here the counter starts by default from 0,list of enumerate objects are printed with counter\n",
    "print(tuple(enumerate(brands,10))) ## here the counter starts from 10 as provided,tuple of enumerate objects are printed with counter"
   ]
  },
  {
   "cell_type": "markdown",
   "metadata": {},
   "source": [
    "### Looping Over an Enumerate object"
   ]
  },
  {
   "cell_type": "code",
   "execution_count": 5,
   "metadata": {},
   "outputs": [
    {
     "name": "stdout",
     "output_type": "stream",
     "text": [
      "(0, 'dell')\n",
      "(1, 'lenovo')\n",
      "(2, 'hp')\n",
      "(3, 'toshiba')\n",
      "(4, 'acer')\n"
     ]
    }
   ],
   "source": [
    "brands = ['dell', 'lenovo', 'hp','toshiba','acer']\n",
    "for item in enumerate(brands):\n",
    "    print(item)  ## here tuple items of the enumerate objects are printed one by one"
   ]
  },
  {
   "cell_type": "code",
   "execution_count": 6,
   "metadata": {},
   "outputs": [
    {
     "name": "stdout",
     "output_type": "stream",
     "text": [
      "0 dell\n",
      "1 lenovo\n",
      "2 hp\n",
      "3 toshiba\n",
      "4 acer\n"
     ]
    }
   ],
   "source": [
    "for count,item in enumerate(brands):\n",
    "    print(count,item) ## here each element of enumerate object is seperately printed,starting counter from 0 as default"
   ]
  },
  {
   "cell_type": "code",
   "execution_count": 9,
   "metadata": {},
   "outputs": [
    {
     "name": "stdout",
     "output_type": "stream",
     "text": [
      "10 dell\n",
      "11 lenovo\n",
      "12 hp\n",
      "13 toshiba\n",
      "14 acer\n"
     ]
    }
   ],
   "source": [
    "for count,item in enumerate(brands,10):\n",
    "    print(count,item) ## here each element of enumerate object is seperately printed,starting counter from 10 as provided"
   ]
  },
  {
   "cell_type": "markdown",
   "metadata": {},
   "source": [
    "# Python Funtion"
   ]
  },
  {
   "cell_type": "markdown",
   "metadata": {},
   "source": [
    "A function is a block of organized, reusable code that is used to perform the task.\n",
    "The main idea of declaring a function is to group  the common and repeated task .\n",
    "Advantages of function:  \n",
    "1) The length of code can be reduced.  \n",
    "2) It can be used many times.  \n",
    "3) Reduce the duplication of code.  \n",
    "4) Sharing of code becomes esay.  \n",
    "    "
   ]
  },
  {
   "cell_type": "markdown",
   "metadata": {},
   "source": [
    "Types of function:  \n",
    "1) Built in function  \n",
    "2) User defined function  \n",
    "3) Anonymus Function (lambda function)\n"
   ]
  },
  {
   "cell_type": "markdown",
   "metadata": {},
   "source": [
    "## Built In Function"
   ]
  },
  {
   "cell_type": "markdown",
   "metadata": {},
   "source": [
    "Python has various pre defined function which we can use directly.  \n",
    "Examples of these function are print(), sum(), min(), max(),type(), etc\n"
   ]
  },
  {
   "cell_type": "markdown",
   "metadata": {},
   "source": [
    "## User Defined Function "
   ]
  },
  {
   "cell_type": "markdown",
   "metadata": {},
   "source": [
    "Those function which are explictly defined by user are user defined function.  \n",
    "Function declaration begins with def keyword followed by function name and paranthesis.  "
   ]
  },
  {
   "cell_type": "code",
   "execution_count": 63,
   "metadata": {
    "collapsed": true
   },
   "outputs": [],
   "source": [
    "## example of function \n",
    "def print_hello():  ## function declaration\n",
    "    pass\n",
    "    \n",
    "print_hello()  ## function call  "
   ]
  },
  {
   "cell_type": "code",
   "execution_count": 64,
   "metadata": {},
   "outputs": [
    {
     "name": "stdout",
     "output_type": "stream",
     "text": [
      "Hello\n"
     ]
    }
   ],
   "source": [
    "## example of function \n",
    "def print_hello():  ## function declaration\n",
    "    print(\"Hello\")\n",
    "    \n",
    "print_hello()  ## function call     "
   ]
  },
  {
   "cell_type": "code",
   "execution_count": 47,
   "metadata": {},
   "outputs": [
    {
     "name": "stdout",
     "output_type": "stream",
     "text": [
      "Hello\n"
     ]
    }
   ],
   "source": [
    "## example of function \n",
    "def print_hello():  ## function declaration\n",
    "    return 'Hello'\n",
    "    \n",
    "hello = print_hello()  ## function call\n",
    "print(hello)"
   ]
  },
  {
   "cell_type": "code",
   "execution_count": 48,
   "metadata": {},
   "outputs": [
    {
     "ename": "NameError",
     "evalue": "name 'print_hello' is not defined",
     "output_type": "error",
     "traceback": [
      "\u001b[1;31m---------------------------------------------------------------------------\u001b[0m",
      "\u001b[1;31mNameError\u001b[0m                                 Traceback (most recent call last)",
      "\u001b[1;32m<ipython-input-48-eec9d61f2db0>\u001b[0m in \u001b[0;36m<module>\u001b[1;34m\u001b[0m\n\u001b[0;32m      1\u001b[0m \u001b[1;32mdel\u001b[0m \u001b[0mprint_hello\u001b[0m\u001b[1;33m\u001b[0m\u001b[1;33m\u001b[0m\u001b[0m\n\u001b[1;32m----> 2\u001b[1;33m \u001b[0mprint_hello\u001b[0m\u001b[1;33m(\u001b[0m\u001b[1;33m)\u001b[0m\u001b[1;33m\u001b[0m\u001b[1;33m\u001b[0m\u001b[0m\n\u001b[0m\u001b[0;32m      3\u001b[0m \u001b[1;33m\u001b[0m\u001b[0m\n\u001b[0;32m      4\u001b[0m \u001b[1;32mdef\u001b[0m \u001b[0mprint_hello\u001b[0m\u001b[1;33m(\u001b[0m\u001b[1;33m)\u001b[0m\u001b[1;33m:\u001b[0m\u001b[1;33m\u001b[0m\u001b[1;33m\u001b[0m\u001b[0m\n\u001b[0;32m      5\u001b[0m     \u001b[0mprint\u001b[0m\u001b[1;33m(\u001b[0m\u001b[1;34m\"Hello World\"\u001b[0m\u001b[1;33m)\u001b[0m\u001b[1;33m\u001b[0m\u001b[1;33m\u001b[0m\u001b[0m\n",
      "\u001b[1;31mNameError\u001b[0m: name 'print_hello' is not defined"
     ]
    }
   ],
   "source": [
    "print_hello()\n",
    "\n",
    "def print_hello():\n",
    "    print(\"Hello World\")"
   ]
  },
  {
   "cell_type": "code",
   "execution_count": 41,
   "metadata": {},
   "outputs": [
    {
     "name": "stdout",
     "output_type": "stream",
     "text": [
      "Hello World\n"
     ]
    }
   ],
   "source": [
    "def main():\n",
    "    print_hello()\n",
    "\n",
    "def print_hello():\n",
    "    print(\"Hello World\")\n",
    "    \n",
    "main()    "
   ]
  },
  {
   "cell_type": "code",
   "execution_count": 11,
   "metadata": {},
   "outputs": [
    {
     "name": "stdout",
     "output_type": "stream",
     "text": [
      "Hello World\n"
     ]
    }
   ],
   "source": [
    "def main():\n",
    "    print_hello()\n",
    "\n",
    "def print_hello():\n",
    "    print(\"Hello World\")\n",
    "    \n",
    "if __name__ == '__main__':\n",
    "    main()\n"
   ]
  },
  {
   "cell_type": "markdown",
   "metadata": {},
   "source": [
    "# Function With Arguments"
   ]
  },
  {
   "cell_type": "code",
   "execution_count": 66,
   "metadata": {},
   "outputs": [
    {
     "name": "stdout",
     "output_type": "stream",
     "text": [
      "The sum of two number is 3\n",
      "The sum of two number is 5\n"
     ]
    }
   ],
   "source": [
    "## program to sum number\n",
    "\n",
    "def sum_num(a,b): ## the argument are local variable and has effect only on function\n",
    "    total = a+b\n",
    "    print(\"The sum of two number is {}\".format(total))\n",
    "    \n",
    "sum_num(1,2)\n",
    "sum_num(2,3)"
   ]
  },
  {
   "cell_type": "code",
   "execution_count": 67,
   "metadata": {},
   "outputs": [
    {
     "name": "stdout",
     "output_type": "stream",
     "text": [
      "0\n",
      "1\n",
      "1\n",
      "2\n",
      "3\n",
      "5\n",
      "8\n"
     ]
    }
   ],
   "source": [
    "## program to print the fibonacci number \n",
    "\n",
    "def fibo(n):\n",
    "    a,b = 0,1\n",
    "    while a < n:\n",
    "        print(a)\n",
    "        a = a+b\n",
    "        b = a-b\n",
    "fibo(10)"
   ]
  },
  {
   "cell_type": "markdown",
   "metadata": {},
   "source": [
    "## DEFAULT ARGUMENT VALUE"
   ]
  },
  {
   "cell_type": "code",
   "execution_count": 68,
   "metadata": {},
   "outputs": [
    {
     "name": "stdout",
     "output_type": "stream",
     "text": [
      "Good Morning\n",
      "Good Morning\n",
      "Good Morning\n",
      "Good Morning\n"
     ]
    }
   ],
   "source": [
    "def message(data,n=4):\n",
    "    for i in range(0,n):\n",
    "        print(data)\n",
    "        \n",
    "message('Good Morning')## function calling is possible with fewer argumennt than defined\n",
    "    "
   ]
  },
  {
   "cell_type": "code",
   "execution_count": 69,
   "metadata": {},
   "outputs": [
    {
     "name": "stdout",
     "output_type": "stream",
     "text": [
      "Good Morning\n",
      "Good Morning\n"
     ]
    }
   ],
   "source": [
    "message('Good Morning',2) "
   ]
  },
  {
   "cell_type": "markdown",
   "metadata": {},
   "source": [
    "KEYWORD ARGUMENT"
   ]
  },
  {
   "cell_type": "code",
   "execution_count": 70,
   "metadata": {},
   "outputs": [
    {
     "name": "stdout",
     "output_type": "stream",
     "text": [
      "Good Morning Ram\n",
      "Good Night Thape\n",
      "Good Evening Hari\n"
     ]
    }
   ],
   "source": [
    "def message(data='Good Morning',name='Ram'):\n",
    "    print(f\"{data} {name}\")\n",
    "    \n",
    "message()\n",
    "message('Good Night','Thape')\n",
    "message(name='Hari',data='Good Evening') ## specifying the argument using the key"
   ]
  },
  {
   "cell_type": "markdown",
   "metadata": {},
   "source": [
    "*args and **kwargs in python"
   ]
  },
  {
   "cell_type": "code",
   "execution_count": 71,
   "metadata": {
    "collapsed": true
   },
   "outputs": [],
   "source": [
    "## if you don't know the number of argument to pass then we can use *args\n",
    "## find the maximum number\n",
    "def max_num(*args):\n",
    "    for i in args:\n",
    "        print(i)\n",
    "    return max(args)    "
   ]
  },
  {
   "cell_type": "code",
   "execution_count": 72,
   "metadata": {},
   "outputs": [
    {
     "name": "stdout",
     "output_type": "stream",
     "text": [
      "1\n",
      "2\n",
      "3\n"
     ]
    },
    {
     "data": {
      "text/plain": [
       "3"
      ]
     },
     "execution_count": 72,
     "metadata": {},
     "output_type": "execute_result"
    }
   ],
   "source": [
    "max_num(1,2,3)"
   ]
  },
  {
   "cell_type": "code",
   "execution_count": 73,
   "metadata": {
    "collapsed": true
   },
   "outputs": [],
   "source": [
    "## **kwargs refers to keyword arguments\n",
    "\n",
    "def func(**kwargs):\n",
    "    print(\"My name is {}\".format(kwargs['first_name']))\n",
    "    return kwargs\n",
    "    "
   ]
  },
  {
   "cell_type": "code",
   "execution_count": 74,
   "metadata": {},
   "outputs": [
    {
     "name": "stdout",
     "output_type": "stream",
     "text": [
      "My name is Ram\n"
     ]
    },
    {
     "data": {
      "text/plain": [
       "{'first_name': 'Ram', 'last_name': 'Thape'}"
      ]
     },
     "execution_count": 74,
     "metadata": {},
     "output_type": "execute_result"
    }
   ],
   "source": [
    "func(first_name='Ram',last_name='Thape')"
   ]
  },
  {
   "cell_type": "markdown",
   "metadata": {},
   "source": [
    "## Lambda Function"
   ]
  },
  {
   "cell_type": "code",
   "execution_count": 18,
   "metadata": {
    "collapsed": true
   },
   "outputs": [],
   "source": [
    "## function which has no name is called anonymus function or lambda expression.\n",
    "\n",
    "## program to compute 5x+5\n",
    "## regular function \n",
    "## represent y=5x+5 in function\n",
    "def fun(x):\n",
    "    y=(5*x+5)\n",
    "    return y"
   ]
  },
  {
   "cell_type": "code",
   "execution_count": 19,
   "metadata": {},
   "outputs": [
    {
     "data": {
      "text/plain": [
       "15"
      ]
     },
     "execution_count": 19,
     "metadata": {},
     "output_type": "execute_result"
    }
   ],
   "source": [
    "fun(2)"
   ]
  },
  {
   "cell_type": "code",
   "execution_count": 77,
   "metadata": {},
   "outputs": [
    {
     "data": {
      "text/plain": [
       "15"
      ]
     },
     "execution_count": 77,
     "metadata": {},
     "output_type": "execute_result"
    }
   ],
   "source": [
    "## using lambda expression for single input\n",
    "## represent y=5x+5 in function\n",
    "g = lambda x:5*x+5\n",
    "g(2)"
   ]
  },
  {
   "cell_type": "code",
   "execution_count": 78,
   "metadata": {},
   "outputs": [
    {
     "data": {
      "text/plain": [
       "'Ram Thapa'"
      ]
     },
     "execution_count": 78,
     "metadata": {},
     "output_type": "execute_result"
    }
   ],
   "source": [
    "## using lambda function for multiple input\n",
    "\n",
    "full_name = lambda first_name,last_name:first_name +\" \" +last_name ## \" \" is used to print space in between name\n",
    "full_name('Ram','Thapa')"
   ]
  },
  {
   "cell_type": "code",
   "execution_count": 79,
   "metadata": {
    "collapsed": true
   },
   "outputs": [],
   "source": [
    "## using lambda expression inside a function\n",
    "\n",
    "def fun(x):\n",
    "    return lambda a:a*x"
   ]
  },
  {
   "cell_type": "code",
   "execution_count": 80,
   "metadata": {},
   "outputs": [
    {
     "data": {
      "text/plain": [
       "10"
      ]
     },
     "execution_count": 80,
     "metadata": {},
     "output_type": "execute_result"
    }
   ],
   "source": [
    "my_fun =fun(2)\n",
    "my_fun(5)"
   ]
  },
  {
   "cell_type": "markdown",
   "metadata": {},
   "source": [
    "# Recursion In Python"
   ]
  },
  {
   "cell_type": "markdown",
   "metadata": {},
   "source": [
    "A recursive function is a function defined in terms of itself via self-referential  \n",
    "expressions. This means that the function will continue to call itself and repeat its behavior until  \n",
    "some condition is met to return a result."
   ]
  },
  {
   "cell_type": "code",
   "execution_count": 81,
   "metadata": {
    "collapsed": true
   },
   "outputs": [],
   "source": [
    "## factorial of a number \n",
    "\n",
    "def fact(n):\n",
    "    if n == 0 | 1:\n",
    "        return 1\n",
    "    else:\n",
    "        return n*fact(n-1)"
   ]
  },
  {
   "cell_type": "code",
   "execution_count": 82,
   "metadata": {},
   "outputs": [
    {
     "data": {
      "text/plain": [
       "120"
      ]
     },
     "execution_count": 82,
     "metadata": {},
     "output_type": "execute_result"
    }
   ],
   "source": [
    "fact(5)"
   ]
  },
  {
   "cell_type": "code",
   "execution_count": 21,
   "metadata": {
    "collapsed": true
   },
   "outputs": [],
   "source": [
    "## fibonacci series\n",
    "\n",
    "def fibo(n):\n",
    "    if n==0:\n",
    "        return 0\n",
    "    elif n==1:\n",
    "        return 1\n",
    "    else:\n",
    "        return fibo(n-1)+fibo(n-2)"
   ]
  },
  {
   "cell_type": "code",
   "execution_count": 25,
   "metadata": {},
   "outputs": [
    {
     "data": {
      "text/plain": [
       "8"
      ]
     },
     "execution_count": 25,
     "metadata": {},
     "output_type": "execute_result"
    }
   ],
   "source": [
    "fibo(6)  ## returns the 7th term of fibonacci series starting from 0 and 1"
   ]
  },
  {
   "cell_type": "markdown",
   "metadata": {},
   "source": [
    "# Python Object-Oriented Programming (OOP)"
   ]
  },
  {
   "cell_type": "markdown",
   "metadata": {},
   "source": [
    "Object-Oriented programming is a widely used concept to write powerful applications.<br>\n",
    "The concept of OOP in Python focuses on creating reusable code.<br>\n",
    "This concept is also known as DRY (Don't Repeat Yourself).<br>\n",
    "In this tutorial, you will discover the basics of object-oriented programming in Python.<br>\n",
    "OOP uses the concept of objects and classes.<br>\n",
    "These can have their own attributes (characteristics they possess), and methods (actions they perform)."
   ]
  },
  {
   "cell_type": "markdown",
   "metadata": {},
   "source": [
    "## How To Create Class In Python?"
   ]
  },
  {
   "cell_type": "code",
   "execution_count": null,
   "metadata": {
    "collapsed": true
   },
   "outputs": [],
   "source": [
    "Classes are used to create new user-defined data structures that contain arbitrary information about something."
   ]
  },
  {
   "cell_type": "code",
   "execution_count": 8,
   "metadata": {
    "collapsed": true
   },
   "outputs": [],
   "source": [
    "class car:  ## class with name vehicle is defined \n",
    "    \n",
    "    def __init__(self): ## __init__ method acts as an initializer,__init__ must always be present,self refers to the object.\n",
    "        pass            ## pass keyword is used as place holder,it allows us to run this code without throwing an error.  \n",
    "                        ## It just makes the control to pass by without executing any code."
   ]
  },
  {
   "cell_type": "markdown",
   "metadata": {},
   "source": [
    "## Initialize An Object's Initial Attributes"
   ]
  },
  {
   "cell_type": "code",
   "execution_count": 9,
   "metadata": {
    "collapsed": true
   },
   "outputs": [],
   "source": [
    "class car:   ## it is used for defining the car class.\n",
    "    \n",
    "    def __init__(self,name,price): ## initializing the attributes of each car as name and price.\n",
    "        \n",
    "        self.name=name             ## these attributes are specific to each object. \n",
    "        self.price=price           ## Each car has the unique name and price. "
   ]
  },
  {
   "cell_type": "markdown",
   "metadata": {},
   "source": [
    "## Initialize An Class's Attributes"
   ]
  },
  {
   "cell_type": "markdown",
   "metadata": {},
   "source": [
    "While instance attributes are specific to each object, class attributes are the same for all instances."
   ]
  },
  {
   "cell_type": "code",
   "execution_count": 10,
   "metadata": {
    "collapsed": true
   },
   "outputs": [],
   "source": [
    "class car:\n",
    "    \n",
    "    category= \"vehicle\"  ## class attribute is same to all cars.\n",
    "                        \n",
    "    def __init__(self,name,price):\n",
    "        \n",
    "        self.name=name\n",
    "        self.price=price\n",
    "                         ## So while each car has a unique name and age, every car will be a vehicle."
   ]
  },
  {
   "cell_type": "markdown",
   "metadata": {},
   "source": [
    "NOTE: You will never have to call the __init__() method; it gets called automatically when you create a new ‘car’ instance."
   ]
  },
  {
   "cell_type": "markdown",
   "metadata": {},
   "source": [
    "## Instantiating Objects"
   ]
  },
  {
   "cell_type": "markdown",
   "metadata": {},
   "source": [
    "It creates a new and unique instance of the class."
   ]
  },
  {
   "cell_type": "code",
   "execution_count": null,
   "metadata": {
    "collapsed": true
   },
   "outputs": [],
   "source": [
    "class car:\n",
    "    \n",
    "    category= \"vehicle\"  \n",
    "                        \n",
    "    def __init__(self,name,price):\n",
    "        \n",
    "        self.name=name\n",
    "        self.price=price\n",
    "                         \n",
    "a=car(\"ford\",20000)  ## instance of the class is created with object attributes and assaigned to variables.\n",
    "b=car(\"volvo\",50000)\n",
    "                     ## these are two different objects of class \"car\"."
   ]
  },
  {
   "cell_type": "code",
   "execution_count": 16,
   "metadata": {},
   "outputs": [
    {
     "name": "stdout",
     "output_type": "stream",
     "text": [
      "<__main__.car object at 0x0000020CFCBAD688>\n",
      "<__main__.car object at 0x0000020CFCBADB88>\n"
     ]
    }
   ],
   "source": [
    "print(a) \n",
    "print(b)"
   ]
  },
  {
   "cell_type": "code",
   "execution_count": 17,
   "metadata": {},
   "outputs": [
    {
     "data": {
      "text/plain": [
       "False"
      ]
     },
     "execution_count": 17,
     "metadata": {},
     "output_type": "execute_result"
    }
   ],
   "source": [
    "a==b   ## this shows that these two instances of class \"car\" are not same as the output is false."
   ]
  },
  {
   "cell_type": "markdown",
   "metadata": {},
   "source": [
    "## Accessing An Object's Attributes In Python"
   ]
  },
  {
   "cell_type": "code",
   "execution_count": 23,
   "metadata": {
    "collapsed": true
   },
   "outputs": [],
   "source": [
    "class car:\n",
    "    \n",
    "    category= \"vehicle\"  \n",
    "                        \n",
    "    def __init__(self,name,price):\n",
    "        \n",
    "        self.name=name\n",
    "        self.price=price\n",
    "                         \n",
    "a=car(\"ford\",20000)  ## Here,\"a\" and \"b\" are two objects of the class \"car\" having unique attributes each.\n",
    "b=car(\"volvo\",50000)"
   ]
  },
  {
   "cell_type": "code",
   "execution_count": 24,
   "metadata": {},
   "outputs": [
    {
     "name": "stdout",
     "output_type": "stream",
     "text": [
      "a:- name=ford,price=20000\n",
      "b:- name=volvo,price=50000\n"
     ]
    }
   ],
   "source": [
    "print(f\"a:- name={a.name},price={a.price}\") ## accessing the name and price attributes of the object \"a\"\n",
    "print(f\"b:- name={b.name},price={b.price}\") ## accessing the name and price attributes of the object \"b\""
   ]
  },
  {
   "cell_type": "markdown",
   "metadata": {},
   "source": [
    "## Accessing Class's Attributes In Python"
   ]
  },
  {
   "cell_type": "code",
   "execution_count": null,
   "metadata": {
    "collapsed": true
   },
   "outputs": [],
   "source": [
    "class car:\n",
    "    \n",
    "    category= \"vehicle\"  ## category is the common attributes for all objects of class \"car\".\n",
    "                        \n",
    "    def __init__(self,name,price):\n",
    "        \n",
    "        self.name=name\n",
    "        self.price=price\n",
    "                         \n",
    "a=car(\"ford\",20000)  ## Here, \"a\" and \"b\" are two objects of the class car having unique attributes each.\n",
    "b=car(\"volvo\",50000)"
   ]
  },
  {
   "cell_type": "code",
   "execution_count": 27,
   "metadata": {},
   "outputs": [
    {
     "name": "stdout",
     "output_type": "stream",
     "text": [
      "a:- category=vehicle\n",
      "b:- category=vehicle\n"
     ]
    }
   ],
   "source": [
    "print(\"a:- category={}\\nb:- category={}\".format(a.category,b.category)) ## accessing the category attribute of the class \"car\"\n",
    "                                                                        ## using objects \"a\" and \"b\"."
   ]
  },
  {
   "cell_type": "markdown",
   "metadata": {},
   "source": [
    "Both a and b have same category \"vehicle\",all the other objects of this class will have category as \"vehicle\"."
   ]
  },
  {
   "cell_type": "markdown",
   "metadata": {},
   "source": [
    "Note:- __init__ method gets called any time we create a new object, attaching it's atrributes to the object."
   ]
  },
  {
   "cell_type": "markdown",
   "metadata": {},
   "source": [
    "## Defining Instance Methods In Class"
   ]
  },
  {
   "cell_type": "markdown",
   "metadata": {},
   "source": [
    "Instance methods are defined inside a class and are used to get the contents of an instance.\n",
    "They can also be used to perform operations with the attributes of our objects."
   ]
  },
  {
   "cell_type": "code",
   "execution_count": 34,
   "metadata": {
    "collapsed": true
   },
   "outputs": [],
   "source": [
    "class car:\n",
    "    \n",
    "    category= \"vehicle\"  \n",
    "                        \n",
    "    def __init__(self,name,price):\n",
    "        \n",
    "        self.name=name\n",
    "        self.price=price\n",
    "    \n",
    "    def describe(self): ## defining instance method of class \"car\".\n",
    "        return(f\"name of car={self.name}\\n   price of car={self.price}\\n   category={self.category}\") \n",
    "                         \n",
    "a=car(\"ford\",20000)  \n",
    "b=car(\"volvo\",50000)"
   ]
  },
  {
   "cell_type": "code",
   "execution_count": 35,
   "metadata": {},
   "outputs": [
    {
     "name": "stdout",
     "output_type": "stream",
     "text": [
      "a:-name of car=ford\n",
      "   price of car=20000\n",
      "   category=vehicle\n",
      "b:-name of car=volvo\n",
      "   price of car=50000\n",
      "   category=vehicle\n"
     ]
    }
   ],
   "source": [
    "print(f\"a:-{a.describe()}\\nb:-{b.describe()}\") ## Here,instance method describe() is called.\n",
    "                                               ## Displays the description of car with all the attributes ."
   ]
  },
  {
   "cell_type": "markdown",
   "metadata": {},
   "source": [
    "Note:- You might be wondering why we didn’t have to pass in the \"self\" argument?'.\n",
    "     -> when you create a new instance of the class, \n",
    "        Python automatically determines what self is (\"car\" in this case) and passes it to the\n",
    "        __init__ method."
   ]
  },
  {
   "cell_type": "markdown",
   "metadata": {},
   "source": [
    "## Modifying Atributes Using Instance Methods"
   ]
  },
  {
   "cell_type": "code",
   "execution_count": 38,
   "metadata": {
    "collapsed": true
   },
   "outputs": [],
   "source": [
    "class car:\n",
    "    \n",
    "    category= \"vehicle\"  ## attribute of class\n",
    "                        \n",
    "    def __init__(self,name,price):\n",
    "        \n",
    "        self.name=name      ## attributes of instance \n",
    "        self.price=price\n",
    "    \n",
    "    def describe(self): ## defining instance method of class \"car\".\n",
    "        return(f\"name of car={self.name}\\n   price of car={self.price}\\n   category={self.category}\")\n",
    "    \n",
    "    def discount(self,value): ## defining method in class \"car\" to change the \"price\" attribute.\n",
    "        self.price-=value\n",
    "                                  \n",
    "a=car(\"ford\",20000)  \n",
    "b=car(\"volvo\",50000)"
   ]
  },
  {
   "cell_type": "code",
   "execution_count": 39,
   "metadata": {},
   "outputs": [
    {
     "name": "stdout",
     "output_type": "stream",
     "text": [
      "a:-name of car=ford\n",
      "   price of car=15000\n",
      "   category=vehicle\n",
      "b:-name of car=volvo\n",
      "   price of car=47000\n",
      "   category=vehicle\n"
     ]
    }
   ],
   "source": [
    "a.discount(5000) ## calling discount() method for object \"a\" ,passing \"value\" as 5000\n",
    "b.discount(3000) ## calling discount() method for object \"b\" ,passing \"value\" as 3000\n",
    "print(f\"a:-{a.describe()}\\nb:-{b.describe()}\")"
   ]
  },
  {
   "cell_type": "markdown",
   "metadata": {},
   "source": [
    "## Python Object Inheritance"
   ]
  },
  {
   "cell_type": "markdown",
   "metadata": {},
   "source": [
    "Inheritance is the process by which one class takes the attributes and methods from another class.\n",
    "Newly formed classes are called child classes, and the classes that child classes are derived from are called parent classes.\n",
    "child classes inherit all of the parent’s attributes and behaviors but \n",
    "child classes can also specify different behavior to follow."
   ]
  },
  {
   "cell_type": "code",
   "execution_count": 40,
   "metadata": {
    "collapsed": true
   },
   "outputs": [],
   "source": [
    "class car: ## parent class\n",
    "    \n",
    "    category= \"vehicle\"  ## attribute of parent class\n",
    "                        \n",
    "    def __init__(self,name,price):\n",
    "        \n",
    "        self.name=name      ## attributes of instance of parent class \n",
    "        self.price=price\n",
    "    \n",
    "    def describe(self): ## defining instance method of parent class \"car\".\n",
    "        return(f\"name of car={self.name}\\n   price of car={self.price}\\n   category={self.category}\")\n",
    "    \n",
    "    def discount(self,value): ## defining method in parent class \"car\" to change the \"price\" attribute.\n",
    "        self.price-=value\n",
    "        \n",
    "class sports_car(car):  ## child class \"sports_car\" inherited from parent class \"car\".\n",
    "     def performance(self,speed): ## defining method in child class \"sports_car\".\n",
    "            return(\"{} costing Rs.{} has speed {}km\\hr\".format(self.name,self.price,speed)) ## accessing parent class attributes\n",
    "                                                                                           ## in child class\n",
    "                                  \n",
    "a=sports_car(\"ferrari\",20000)  \n",
    "b=sports_car(\"audi\",50000)"
   ]
  },
  {
   "cell_type": "code",
   "execution_count": 41,
   "metadata": {},
   "outputs": [
    {
     "name": "stdout",
     "output_type": "stream",
     "text": [
      "a:-name of car=ferrari\n",
      "   price of car=20000\n",
      "   category=vehicle\n",
      "b:-name of car=audi\n",
      "   price of car=50000\n",
      "   category=vehicle\n"
     ]
    }
   ],
   "source": [
    "print(f\"a:-{a.describe()}\\nb:-{b.describe()}\")"
   ]
  },
  {
   "cell_type": "code",
   "execution_count": 47,
   "metadata": {},
   "outputs": [
    {
     "name": "stdout",
     "output_type": "stream",
     "text": [
      "a:- ferrari costing Rs.17600 has speed 349km\\hr\n",
      "b:- audi costing Rs.47000 has speed 250km\\hr\n"
     ]
    }
   ],
   "source": [
    "a.discount(400);b.discount(500)\n",
    "print(\"a:-\",a.performance(349));print(\"b:-\",b.performance(250))"
   ]
  },
  {
   "cell_type": "markdown",
   "metadata": {},
   "source": [
    "## Using isinstance() Function"
   ]
  },
  {
   "cell_type": "markdown",
   "metadata": {},
   "source": [
    "This function determines if an object or instance is the instance of any parent. "
   ]
  },
  {
   "cell_type": "code",
   "execution_count": null,
   "metadata": {
    "collapsed": true
   },
   "outputs": [],
   "source": [
    "isinstance(object,class) ## if the object is of the provided class then it returns true else false ."
   ]
  },
  {
   "cell_type": "code",
   "execution_count": 1,
   "metadata": {
    "collapsed": true
   },
   "outputs": [],
   "source": [
    "class car: ## parent class\n",
    "    \n",
    "    category= \"vehicle\"  ## attribute of parent class\n",
    "                        \n",
    "    def __init__(self,name,price):\n",
    "        \n",
    "        self.name=name      ## attributes of instance of parent class \n",
    "        self.price=price\n",
    "    \n",
    "    def describe(self): ## defining instance method of parent class \"car\".\n",
    "        return(f\"name of car={self.name}\\n   price of car={self.price}\\n   category={self.category}\")\n",
    "    \n",
    "    def discount(self,value): ## defining method in parent class \"car\" to change the \"price\" attribute.\n",
    "        self.price-=value\n",
    "        \n",
    "class sports_car(car):  ## child class \"sports_car\" inherited from parent class \"car\".\n",
    "     def performance(self,speed): ## defining method in child class \"sports_car\".\n",
    "            return(\"{} costing Rs.{} has speed {}km\\hr\".format(self.name,self.price,speed)) ## accessing parent class attributes\n",
    "\n",
    "class family_car(car):  ## child class \"family_car\" inherited from parent class \"car\".                                                                                           ## in child class\n",
    "     def performance(self,speed): ## defining method in child class \"sports_car\".\n",
    "            return(\"{} costing Rs.{} has speed {}km\\hr\".format(self.name,self.price,speed)) ## accessing parent class attributes                             \n",
    "\n",
    "a=sports_car(\"ferrari\",20000)  \n",
    "b=family_car(\"toyota\",50000)"
   ]
  },
  {
   "cell_type": "code",
   "execution_count": 2,
   "metadata": {},
   "outputs": [
    {
     "name": "stdout",
     "output_type": "stream",
     "text": [
      "True\n",
      "True\n"
     ]
    }
   ],
   "source": [
    "print(isinstance(a,sports_car)) ## a is the instance of sports_car\n",
    "print(isinstance(b,family_car)) ## b is the instance of family_car"
   ]
  },
  {
   "cell_type": "code",
   "execution_count": 3,
   "metadata": {},
   "outputs": [
    {
     "name": "stdout",
     "output_type": "stream",
     "text": [
      "False\n",
      "False\n"
     ]
    }
   ],
   "source": [
    "print(isinstance(b,sports_car)) ## b is not the instance of sports_car\n",
    "print(isinstance(a,family_car)) ## a is not the instance of family_car"
   ]
  },
  {
   "cell_type": "markdown",
   "metadata": {},
   "source": [
    "##  Data Encapsulation in Python"
   ]
  },
  {
   "cell_type": "markdown",
   "metadata": {},
   "source": [
    "In OOP in python, we can restrict the access to methods and variables of the class.<br>\n",
    "This prevents the data from the modification.<br>\n",
    "we denote private attribute using underscore as prefix i.e single “ _ “ or double “ __“."
   ]
  },
  {
   "cell_type": "code",
   "execution_count": 17,
   "metadata": {},
   "outputs": [
    {
     "name": "stdout",
     "output_type": "stream",
     "text": [
      "name of car=ferrari\n",
      "price of car=20000\n",
      "category=vehicle\n"
     ]
    }
   ],
   "source": [
    "class car:\n",
    "    category=\"vehicle\"\n",
    "    \n",
    "    def __init__(self,name,price):\n",
    "        self.name=name\n",
    "        self.__price=price\n",
    "        \n",
    "    def discount(self,price):\n",
    "        self.__price-=price\n",
    "        \n",
    "    def describe(self): \n",
    "        return(f\"name of car={self.name}\\nprice of car={self.__price}\\ncategory={self.category}\")\n",
    "a=car(\"ferrari\",20000)\n",
    "print(a.describe())"
   ]
  },
  {
   "cell_type": "code",
   "execution_count": 18,
   "metadata": {},
   "outputs": [
    {
     "name": "stdout",
     "output_type": "stream",
     "text": [
      "name of car=ferrari\n",
      "price of car=20000\n",
      "category=vehicle\n"
     ]
    }
   ],
   "source": [
    "# unable to change the price as it is private attribute. \n",
    "a.__price=400\n",
    "print(a.describe())"
   ]
  },
  {
   "cell_type": "code",
   "execution_count": 19,
   "metadata": {},
   "outputs": [
    {
     "name": "stdout",
     "output_type": "stream",
     "text": [
      "name of car=ferrari\n",
      "price of car=19200\n",
      "category=vehicle\n"
     ]
    }
   ],
   "source": [
    "# changing price using setter function\n",
    "a.discount(800)\n",
    "print(a.describe())"
   ]
  },
  {
   "cell_type": "markdown",
   "metadata": {},
   "source": [
    "## Polymorphism in Python"
   ]
  },
  {
   "cell_type": "markdown",
   "metadata": {},
   "source": [
    "In OOP ,using polymorphism we can use common methods and attributes<br>\n",
    "of one class in another class."
   ]
  },
  {
   "cell_type": "code",
   "execution_count": 32,
   "metadata": {
    "collapsed": true
   },
   "outputs": [],
   "source": [
    "class car:\n",
    "    def __init__(self,name,price):\n",
    "        self.name=name\n",
    "        self.__price=price\n",
    "        \n",
    "    def describe(self): \n",
    "        return(f\"name of car={self.name}\\nprice of car={self.__price}\")\n",
    "class bike:\n",
    "    def __init__(self,name,price):\n",
    "        self.name=name\n",
    "        self.__price=price\n",
    "    def describe(self): \n",
    "        return(f\"name of bike={self.name}\\nprice of bike={self.__price}\")\n",
    "def detail(vehicle):\n",
    "    print(vehicle.describe())"
   ]
  },
  {
   "cell_type": "code",
   "execution_count": 33,
   "metadata": {},
   "outputs": [
    {
     "name": "stdout",
     "output_type": "stream",
     "text": [
      "name of car=toyota\n",
      "price of car=20000\n",
      "name of bike=yamaha\n",
      "price of bike=40000\n"
     ]
    }
   ],
   "source": [
    "a=car(\"toyota\",20000)\n",
    "b=bike(\"yamaha\",40000)\n",
    "detail(a)\n",
    "detail(b)"
   ]
  },
  {
   "cell_type": "markdown",
   "metadata": {},
   "source": [
    "## Function Overriding In Class"
   ]
  },
  {
   "cell_type": "markdown",
   "metadata": {},
   "source": [
    "Function overriding is the process of using the same attributes and behaviours of the parent class \n",
    "into the child class and modifying it."
   ]
  },
  {
   "cell_type": "code",
   "execution_count": 5,
   "metadata": {
    "collapsed": true
   },
   "outputs": [],
   "source": [
    "class car: ## parent class\n",
    "    \n",
    "    category= \"vehicle\"  ## attribute of parent class\n",
    "                        \n",
    "    def __init__(self,name,price):\n",
    "        self.name=name      ## attributes of instance of parent class \n",
    "        self.price=price\n",
    "    \n",
    "class sports_car(car):  ## child class \"sports_car\" inherited from parent class \"car\".\n",
    "     pass\n",
    "\n",
    "class family_car(car):  ## child class \"family_car\" inherited from parent class \"car\".                                                                                           ## in child class\n",
    "     category=\"not defined\"  ## category of \"car\" is overriden by \"family_car\" and modified.                             \n",
    "\n",
    "a=sports_car(\"ferrari\",20000) \n",
    "b=family_car(\"toyota\",50000)"
   ]
  },
  {
   "cell_type": "code",
   "execution_count": 7,
   "metadata": {},
   "outputs": [
    {
     "name": "stdout",
     "output_type": "stream",
     "text": [
      "vehicle\n",
      "not defined\n"
     ]
    }
   ],
   "source": [
    "print (a.category) ## \"sports_car\" child class inherits the category attributes of the \"car\" parent class  \n",
    "print (b.category) ## \"sports_car\" child class overrides the category attributes of the \"car\" parent class and changes to \"not defined\""
   ]
  },
  {
   "cell_type": "markdown",
   "metadata": {},
   "source": [
    "## Function Overloading In Class"
   ]
  },
  {
   "cell_type": "code",
   "execution_count": 11,
   "metadata": {
    "collapsed": true
   },
   "outputs": [],
   "source": [
    "class car:\n",
    "    category =\"vehicle\"\n",
    "    def __init__(self,name,price):\n",
    "            self.name=name      \n",
    "            self.price=price\n",
    "            \n",
    "    def describe(self,value=None): ## overloading a function by setting other parameter as none except self. \n",
    "        if value!=None:\n",
    "            self.price-=value     \n",
    "            return(f\"name of car={self.name}\\n   price of car={self.price}\\n   category={self.category}\")\n",
    "        else:\n",
    "            return(f\"name of car={self.name}\\n   price of car={self.price}\\n   category={self.category}\")\n",
    "        \n",
    "    \n",
    "a=car(\"ferrari\",20000) "
   ]
  },
  {
   "cell_type": "code",
   "execution_count": 12,
   "metadata": {},
   "outputs": [
    {
     "name": "stdout",
     "output_type": "stream",
     "text": [
      "name of car=ferrari\n",
      "   price of car=20000\n",
      "   category=vehicle\n",
      "name of car=ferrari\n",
      "   price of car=19800\n",
      "   category=vehicle\n"
     ]
    }
   ],
   "source": [
    "print(a.describe())\n",
    "print(a.describe(200))"
   ]
  },
  {
   "cell_type": "markdown",
   "metadata": {},
   "source": [
    "# File Handling In Python"
   ]
  },
  {
   "cell_type": "markdown",
   "metadata": {},
   "source": [
    "Python language allows us to create,read and write to the files by using in-built function.\n",
    "Our programs need to read the information from the external files when we have to work with large ammount of information because it will not be practically convenient to ask user to input such a large ammount of information.\n"
   ]
  },
  {
   "cell_type": "markdown",
   "metadata": {},
   "source": [
    "## Creating A Text File Using Python"
   ]
  },
  {
   "cell_type": "code",
   "execution_count": 64,
   "metadata": {},
   "outputs": [
    {
     "name": "stdin",
     "output_type": "stream",
     "text": [
      "Enter the file name?:- shuvam\n"
     ]
    }
   ],
   "source": [
    "filename=input(\"Enter the file name?:-\") ## asking user to input the file name\n",
    "f= open(f\"{filename}.txt\",\"w+\") ## open keyword is used to open the files in different modes ,\n",
    "                                ## we will discuss about modes later "
   ]
  },
  {
   "cell_type": "markdown",
   "metadata": {},
   "source": [
    "## Writing Into The Text File Using Python"
   ]
  },
  {
   "cell_type": "code",
   "execution_count": 65,
   "metadata": {},
   "outputs": [
    {
     "data": {
      "text/plain": [
       "12"
      ]
     },
     "execution_count": 65,
     "metadata": {},
     "output_type": "execute_result"
    }
   ],
   "source": [
    "f.write(\"hello python\") ## writting into the text file"
   ]
  },
  {
   "cell_type": "markdown",
   "metadata": {},
   "source": [
    "## Closing A Text File"
   ]
  },
  {
   "cell_type": "code",
   "execution_count": 66,
   "metadata": {
    "collapsed": true
   },
   "outputs": [],
   "source": [
    "f.close() ## closing the text file"
   ]
  },
  {
   "cell_type": "code",
   "execution_count": 67,
   "metadata": {},
   "outputs": [
    {
     "name": "stdin",
     "output_type": "stream",
     "text": [
      "Enter the file name?:- shuvam\n"
     ]
    }
   ],
   "source": [
    "filename=input(\"Enter the file name?:-\") ## asking user to input the file name\n",
    " ## open keyword is used to open the files in different modes ,\n",
    "f= open(f\"{filename}.txt\",\"w+\") ## opening the file in writing and reading mode using \"w+\"\n",
    "                                ## we will discuss about modes later \n",
    "f.write(\"hello python\")\n",
    "f.close()"
   ]
  },
  {
   "cell_type": "markdown",
   "metadata": {},
   "source": [
    "## Opening And Reading Text File"
   ]
  },
  {
   "cell_type": "code",
   "execution_count": 68,
   "metadata": {},
   "outputs": [
    {
     "name": "stdin",
     "output_type": "stream",
     "text": [
      "Enter the file name?:- shuvam\n"
     ]
    },
    {
     "name": "stdout",
     "output_type": "stream",
     "text": [
      "hello python\n"
     ]
    }
   ],
   "source": [
    "filename=input(\"Enter the file name?:-\") ## asking user to input the file name\n",
    "f= open(f\"{filename}.txt\",\"r\") ## opening file in reading mode using \"r\"\n",
    "content=f.read() ## rerading the text of file and assaigning to content variable\n",
    "print(content) ## printing the content variable"
   ]
  },
  {
   "cell_type": "markdown",
   "metadata": {},
   "source": [
    "## Writing Multiple Lines Into Text File And Reading Each Line "
   ]
  },
  {
   "cell_type": "code",
   "execution_count": 70,
   "metadata": {},
   "outputs": [
    {
     "name": "stdin",
     "output_type": "stream",
     "text": [
      "Enter the filename?:- shuvam\n"
     ]
    }
   ],
   "source": [
    "## writing multiple lines to the  text file\n",
    "filename=input(\"Enter the filename?:-\")\n",
    "f= open(f\"{filename}.txt\",\"w+\")\n",
    "for i in range(10):  \n",
    "    f.write(f\"we are on line {i+1} \\n\")\n",
    "f.close()    "
   ]
  },
  {
   "cell_type": "markdown",
   "metadata": {},
   "source": [
    "## Reading Eachline Of Text File"
   ]
  },
  {
   "cell_type": "code",
   "execution_count": 72,
   "metadata": {},
   "outputs": [
    {
     "name": "stdin",
     "output_type": "stream",
     "text": [
      "Enter the filename?:- shuvam\n"
     ]
    },
    {
     "name": "stdout",
     "output_type": "stream",
     "text": [
      "we are on line 1 \n",
      "\n",
      "we are on line 2 \n",
      "\n"
     ]
    }
   ],
   "source": [
    "filename=input(\"Enter the filename?:-\")\n",
    "f= open(f\"{filename}.txt\",\"r\")\n",
    "line1=f.readline() ## readline keyword reads text in a line and jumps the cursor to the next line\n",
    "line2=f.readline() \n",
    "print(f\"{line1}\\n{line2}\")\n",
    "f.close()    "
   ]
  },
  {
   "cell_type": "markdown",
   "metadata": {},
   "source": [
    "## Using For Loop To Read Text Files"
   ]
  },
  {
   "cell_type": "code",
   "execution_count": 73,
   "metadata": {},
   "outputs": [
    {
     "name": "stdin",
     "output_type": "stream",
     "text": [
      "Enter the filename?:- shuvam\n"
     ]
    },
    {
     "name": "stdout",
     "output_type": "stream",
     "text": [
      "we are on line 1 \n",
      "we are on line 2 \n",
      "we are on line 3 \n",
      "we are on line 4 \n",
      "we are on line 5 \n",
      "we are on line 6 \n",
      "we are on line 7 \n",
      "we are on line 8 \n",
      "we are on line 9 \n",
      "we are on line 10 \n"
     ]
    }
   ],
   "source": [
    "## reading all the lines of the text file using for loop\n",
    "filename=input(\"Enter the filename?:-\")\n",
    "f= open(f\"{filename}.txt\",\"r\")\n",
    "for line in f:\n",
    "    print(line,end='')\n",
    "f.close()    "
   ]
  },
  {
   "cell_type": "markdown",
   "metadata": {},
   "source": [
    "## Appending Data To Text File"
   ]
  },
  {
   "cell_type": "code",
   "execution_count": 74,
   "metadata": {},
   "outputs": [
    {
     "name": "stdin",
     "output_type": "stream",
     "text": [
      "Enter the filename?:- shuvam\n"
     ]
    }
   ],
   "source": [
    "filename=input(\"Enter the filename?:-\")\n",
    "f= open(f\"{filename}.txt\",\"a+\") ## a indicates append mode and + indicates creating the new file if it doesn't exist.\n",
    "f.write(\"This is appended text\")\n",
    "f.close()"
   ]
  },
  {
   "cell_type": "markdown",
   "metadata": {},
   "source": [
    "# File Modes In Python"
   ]
  },
  {
   "cell_type": "markdown",
   "metadata": {},
   "source": [
    "'r'-> This is the default mode. It Opens file for reading.<br>\n",
    "'w'-> This Mode Opens file for writing.<br>\n",
    "      If file does not exist, it creates a new file.<br>\n",
    "      If file exists it truncates the file.<br>\n",
    "'x'-> Creates a new file. If file already exists, the operation fails.<br>\n",
    "'a'-> Open file in append mode.<br>\n",
    "      If file does not exist, it creates a new file.<br>\n",
    "'t'-> This is the default mode. It opens in text mode.<br>\n",
    "'b'-> This opens in binary mode.<br>\n",
    "'+'-> This will open a file for reading and writing (updating)<br>"
   ]
  },
  {
   "cell_type": "markdown",
   "metadata": {},
   "source": [
    "# HOMEWORK DESCRIPTION"
   ]
  },
  {
   "cell_type": "markdown",
   "metadata": {},
   "source": [
    "# Calculator In Command Line Interface"
   ]
  },
  {
   "cell_type": "markdown",
   "metadata": {},
   "source": [
    "This is a calculator in the command line interface.<br>\n",
    "Here we don't get any sort of buttons or icons everything will be in command lines"
   ]
  },
  {
   "cell_type": "code",
   "execution_count": 3,
   "metadata": {},
   "outputs": [
    {
     "name": "stdout",
     "output_type": "stream",
     "text": [
      "WELCOME TO THE CALCULATING WORLD \n"
     ]
    },
    {
     "name": "stdin",
     "output_type": "stream",
     "text": [
      "Enter the number?:- 100\n",
      "Enter the operator?:- /\n",
      "Enter the number?:- 5\n"
     ]
    },
    {
     "name": "stdout",
     "output_type": "stream",
     "text": [
      "100 / 5 = 20.0\n"
     ]
    },
    {
     "name": "stdin",
     "output_type": "stream",
     "text": [
      "Do you have more numbers left (y/n)?:- y\n",
      "Enter the operator?:- *\n",
      "Enter the number?:- 40\n"
     ]
    },
    {
     "name": "stdout",
     "output_type": "stream",
     "text": [
      "20.0 * 40 = 800.0\n"
     ]
    },
    {
     "name": "stdin",
     "output_type": "stream",
     "text": [
      "Do you have more numbers left (y/n)?:- y\n",
      "Enter the operator?:- -\n",
      "Enter the number?:- 700\n"
     ]
    },
    {
     "name": "stdout",
     "output_type": "stream",
     "text": [
      "800.0 - 700 = 100.0\n"
     ]
    },
    {
     "name": "stdin",
     "output_type": "stream",
     "text": [
      "Do you have more numbers left (y/n)?:- y\n",
      "Enter the operator?:- +50\n",
      "Enter the number?:- 6\n"
     ]
    },
    {
     "name": "stdout",
     "output_type": "stream",
     "text": [
      "Enter the correct operator\n"
     ]
    },
    {
     "name": "stdin",
     "output_type": "stream",
     "text": [
      "Enter the operator?:- +\n",
      "Enter the number?:- 6\n"
     ]
    },
    {
     "name": "stdout",
     "output_type": "stream",
     "text": [
      "100.0 + 6 = 106.0\n"
     ]
    },
    {
     "name": "stdin",
     "output_type": "stream",
     "text": [
      "Do you have more numbers left (y/n)?:- n\n"
     ]
    },
    {
     "name": "stdout",
     "output_type": "stream",
     "text": [
      "Result is :-106.0\n"
     ]
    }
   ],
   "source": [
    "print(\"WELCOME TO THE CALCULATING WORLD \")\n",
    "\n",
    "def main():\n",
    "    num1=int(input(\"Enter the number?:-\"))\n",
    "    choice=\"y\"\n",
    "    while (choice.lower()==\"y\"):\n",
    "        op=input(\"Enter the operator?:-\")\n",
    "        num2=int(input(\"Enter the number?:-\"))\n",
    "        operator={\"+\":add(num1,num2),\"-\":sub(num1,num2),\"*\":mul(num1,num2),\"/\":div(num1,num2)}\n",
    "        p=list(operator.keys())\n",
    "        if op in p:\n",
    "            num=operator[op]\n",
    "            print(f\"{num1} {op} {num2} = {num}\")\n",
    "            num1=num\n",
    "            choice=input(\"Do you have more numbers left (y/n)?:-\")\n",
    "            if choice.lower()==\"n\":\n",
    "                print(f\"Result is :-{num1}\")\n",
    "        else:\n",
    "            print(\"Enter the correct operator\")\n",
    "\n",
    "def add(n1,n2):\n",
    "    return n1+n2\n",
    "def sub(n1,n2):\n",
    "    return n1-n2\n",
    "def mul(n1,n2):\n",
    "    return n1*n2\n",
    "def div(n1,n2):\n",
    "    return n1/n2\n",
    "\n",
    "main()"
   ]
  },
  {
   "cell_type": "markdown",
   "metadata": {},
   "source": [
    "# Hangman Game"
   ]
  },
  {
   "cell_type": "markdown",
   "metadata": {},
   "source": [
    "Hangman is a classic word game in which you must guess as many secret words as you can before moves run out!\n",
    "Here we are creating command line interface of this game.We will discuss about it's graphical user interface\n",
    "later."
   ]
  },
  {
   "cell_type": "code",
   "execution_count": 3,
   "metadata": {},
   "outputs": [
    {
     "name": "stdout",
     "output_type": "stream",
     "text": [
      "Welcome to Hangman!\n",
      "\n",
      "-----\n",
      "|   |\n",
      "|\n",
      "|\n",
      "|\n",
      "|\n",
      "|\n",
      "|\n",
      "|\n",
      "--------\n",
      "\n",
      "\n",
      "You have 6 attempts remaining\n",
      "-------\n"
     ]
    },
    {
     "name": "stdin",
     "output_type": "stream",
     "text": [
      "\n",
      "Please select a letter between A-Z\n",
      ">  l\n"
     ]
    },
    {
     "name": "stdout",
     "output_type": "stream",
     "text": [
      "\n",
      "-----\n",
      "|   |\n",
      "|   0\n",
      "|\n",
      "|\n",
      "|\n",
      "|\n",
      "|\n",
      "|\n",
      "--------\n",
      "\n",
      "\n",
      "You have 5 attempts remaining\n",
      "-------\n"
     ]
    },
    {
     "name": "stdin",
     "output_type": "stream",
     "text": [
      "\n",
      "Please select a letter between A-Z\n",
      ">  e\n"
     ]
    },
    {
     "name": "stdout",
     "output_type": "stream",
     "text": [
      "\n",
      "You have 5 attempts remaining\n",
      "-e-e--e\n"
     ]
    },
    {
     "name": "stdin",
     "output_type": "stream",
     "text": [
      "\n",
      "Please select a letter between A-Z\n",
      ">  o\n"
     ]
    },
    {
     "name": "stdout",
     "output_type": "stream",
     "text": [
      "\n",
      "-----\n",
      "|   |\n",
      "|   0\n",
      "|  -+-\n",
      "|\n",
      "|\n",
      "|\n",
      "|\n",
      "|\n",
      "--------\n",
      "\n",
      "\n",
      "You have 4 attempts remaining\n",
      "-e-e--e\n"
     ]
    },
    {
     "name": "stdin",
     "output_type": "stream",
     "text": [
      "\n",
      "Please select a letter between A-Z\n",
      ">  p\n"
     ]
    },
    {
     "name": "stdout",
     "output_type": "stream",
     "text": [
      "\n",
      "-----\n",
      "|   |\n",
      "|   0\n",
      "| /-+-\n",
      "|\n",
      "|\n",
      "|\n",
      "|\n",
      "|\n",
      "--------\n",
      "\n",
      "\n",
      "You have 3 attempts remaining\n",
      "-e-e--e\n"
     ]
    },
    {
     "name": "stdin",
     "output_type": "stream",
     "text": [
      "\n",
      "Please select a letter between A-Z\n",
      ">  a\n"
     ]
    },
    {
     "name": "stdout",
     "output_type": "stream",
     "text": [
      "\n",
      "-----\n",
      "|   |\n",
      "|   0\n",
      "| /-+-\\ \n",
      "|\n",
      "|\n",
      "|\n",
      "|\n",
      "|\n",
      "--------\n",
      "\n",
      "\n",
      "You have 2 attempts remaining\n",
      "-e-e--e\n"
     ]
    },
    {
     "name": "stdin",
     "output_type": "stream",
     "text": [
      "\n",
      "Please select a letter between A-Z\n",
      ">  r\n"
     ]
    },
    {
     "name": "stdout",
     "output_type": "stream",
     "text": [
      "\n",
      "You have 2 attempts remaining\n",
      "re-er-e\n"
     ]
    },
    {
     "name": "stdin",
     "output_type": "stream",
     "text": [
      "\n",
      "Please select a letter between A-Z\n",
      ">  d\n"
     ]
    },
    {
     "name": "stdout",
     "output_type": "stream",
     "text": [
      "\n",
      "-----\n",
      "|   |\n",
      "|   0\n",
      "| /-+-\\ \n",
      "|   | \n",
      "|\n",
      "|\n",
      "|\n",
      "|\n",
      "--------\n",
      "\n",
      "\n",
      "You have 1 attempts remaining\n",
      "re-er-e\n"
     ]
    },
    {
     "name": "stdin",
     "output_type": "stream",
     "text": [
      "\n",
      "Please select a letter between A-Z\n",
      ">  g\n"
     ]
    },
    {
     "name": "stdout",
     "output_type": "stream",
     "text": [
      "\n",
      "-----\n",
      "|   |\n",
      "|   0\n",
      "| /-+-\\ \n",
      "|   | \n",
      "|   | \n",
      "|\n",
      "|\n",
      "|\n",
      "--------\n",
      "\n",
      "\n",
      "Sorry! The word was reverse.\n",
      "\n",
      "Would you like to play again?\n"
     ]
    },
    {
     "name": "stdin",
     "output_type": "stream",
     "text": [
      ">  d\n"
     ]
    }
   ],
   "source": [
    "import random\n",
    "\n",
    "def main():\n",
    "    word='Welcome to Hangman Game!'\n",
    "    print(word,sep='\\n')\n",
    "\n",
    "    # setting up the play_again loop\n",
    "\n",
    "    play_again = True\n",
    "\n",
    "    while play_again:\n",
    "        # set up the game loop\n",
    "\n",
    "        words = [\"Hello\", \"Python\", \"Workshop\", \"Function\", \"Variable\",\n",
    "                 \"Programming\", \"Prize\", \"Loop\", \"Output\", \"Input\",\n",
    "                 \"String\", \"Reverse\", \"Palindrome\", \"Structures\", \"\",\n",
    "                 \"Dictionary\", \"Exception\", \"Inheritance\", \"Object\", \"Precedence\"\n",
    "                 ]\n",
    "\n",
    "        chosen_word = random.choice(words).lower()\n",
    "        player_guess = None # for hold the players guess\n",
    "        guessed_letters = [] # list of guessed letters\n",
    "        word_guessed = []\n",
    "        for letter in chosen_word:\n",
    "            word_guessed.append(\"-\") # create an unguessed, blank version of the word\n",
    "        joined_word = None # joins the words in the list word_guessed\n",
    "        picture = (\n",
    "\"\"\"\n",
    "-----\n",
    "|   |\n",
    "|\n",
    "|\n",
    "|\n",
    "|\n",
    "|\n",
    "|\n",
    "|\n",
    "--------\n",
    "\"\"\",\n",
    "\"\"\"\n",
    "-----\n",
    "|   |\n",
    "|   0\n",
    "|\n",
    "|\n",
    "|\n",
    "|\n",
    "|\n",
    "|\n",
    "--------\n",
    "\"\"\",\n",
    "\"\"\"\n",
    "-----\n",
    "|   |\n",
    "|   0\n",
    "|  -+-\n",
    "|\n",
    "|\n",
    "|\n",
    "|\n",
    "|\n",
    "--------\n",
    "\"\"\",\n",
    "\"\"\"\n",
    "-----\n",
    "|   |\n",
    "|   0\n",
    "| /-+-\n",
    "|\n",
    "|\n",
    "|\n",
    "|\n",
    "|\n",
    "--------\n",
    "\"\"\",\n",
    "\"\"\"\n",
    "-----\n",
    "|   |\n",
    "|   0\n",
    "| /-+-\\ \n",
    "|\n",
    "|\n",
    "|\n",
    "|\n",
    "|\n",
    "--------\n",
    "\"\"\",\n",
    "\"\"\"\n",
    "-----\n",
    "|   |\n",
    "|   0\n",
    "| /-+-\\ \n",
    "|   | \n",
    "|\n",
    "|\n",
    "|\n",
    "|\n",
    "--------\n",
    "\"\"\",\n",
    "\"\"\"\n",
    "-----\n",
    "|   |\n",
    "|   0\n",
    "| /-+-\\ \n",
    "|   | \n",
    "|   | \n",
    "|\n",
    "|\n",
    "|\n",
    "--------\n",
    "\"\"\"\n",
    ")\n",
    "\n",
    "        print(picture[0])\n",
    "        attempts = len(picture) - 1\n",
    "\n",
    "\n",
    "        while (attempts != 0 and \"-\" in word_guessed):\n",
    "            print((\"\\nYou have {} attempts remaining\").format(attempts))\n",
    "            joined_word = \"\".join(word_guessed)\n",
    "            print(joined_word)\n",
    "         ## exception handling\n",
    "            try:\n",
    "                player_guess = str(input(\"\\nPlease select a letter between A-Z\" + \"\\n> \")).lower()\n",
    "            except: # check valid input\n",
    "                print(\"That is not valid input. Please try again.\")\n",
    "                continue                \n",
    "            else: \n",
    "                if not player_guess.isalpha(): # checks if the input is a letter. Also checks an input has been made.\n",
    "                    print(\"That is not a letter. Please try again.\")\n",
    "                    continue\n",
    "                elif len(player_guess) > 1: # checks if  the input is only one letter\n",
    "                    print(\"That is more than one letter. Please try again.\")\n",
    "                    continue\n",
    "                elif player_guess in guessed_letters: # check it letter hasn't been guessed already\n",
    "                    print(\"You have already guessed that letter. Please try again.\")\n",
    "                    continue\n",
    "                else:\n",
    "                    pass\n",
    "\n",
    "            guessed_letters.append(player_guess)\n",
    "\n",
    "            for letter in range(len(chosen_word)):\n",
    "                if player_guess == chosen_word[letter]:\n",
    "                    word_guessed[letter] = player_guess # replaces all letters in the chosen word that match the players guess\n",
    "\n",
    "            if player_guess not in chosen_word:\n",
    "                attempts -= 1\n",
    "                print(picture[(len(picture) - 1) - attempts])\n",
    "\n",
    "        if \"-\" not in word_guessed: # no blanks remaining\n",
    "            print((\"\\nCongratulations! you guessed the word {}\").format(chosen_word))\n",
    "        else: # loop must have ended because attempts reached 0\n",
    "            print((\"\\nSorry! The word was {}.\").format(chosen_word))\n",
    "\n",
    "        print(\"\\nWould you like to play again?\")\n",
    "\n",
    "        response = input(\"> \").lower()\n",
    "        if response not in (\"yes\", \"y\"):\n",
    "            play_again = False\n",
    "\n",
    "if __name__ == \"__main__\":\n",
    "    main()\n"
   ]
  },
  {
   "cell_type": "code",
   "execution_count": null,
   "metadata": {
    "collapsed": true
   },
   "outputs": [],
   "source": []
  }
 ],
 "metadata": {
  "kernelspec": {
   "display_name": "Python 3",
   "language": "python",
   "name": "python3"
  },
  "language_info": {
   "codemirror_mode": {
    "name": "ipython",
    "version": 3
   },
   "file_extension": ".py",
   "mimetype": "text/x-python",
   "name": "python",
   "nbconvert_exporter": "python",
   "pygments_lexer": "ipython3",
   "version": "3.6.2"
  }
 },
 "nbformat": 4,
 "nbformat_minor": 4
}

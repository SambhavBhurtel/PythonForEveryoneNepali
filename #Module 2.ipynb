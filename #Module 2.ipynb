{
 "cells": [
  {
   "cell_type": "markdown",
   "metadata": {},
   "source": [
    "# Flow Control in Python"
   ]
  },
  {
   "cell_type": "markdown",
   "metadata": {},
   "source": [
    "## Conditional Statements"
   ]
  },
  {
   "cell_type": "markdown",
   "metadata": {},
   "source": [
    "## if statement"
   ]
  },
  {
   "cell_type": "markdown",
   "metadata": {},
   "source": [
    "## example"
   ]
  },
  {
   "cell_type": "code",
   "execution_count": 1,
   "metadata": {},
   "outputs": [
    {
     "name": "stdout",
     "output_type": "stream",
     "text": [
      "a:-5\n",
      "b:-4\n",
      "a is greater than b\n"
     ]
    }
   ],
   "source": [
    "a=input(\"a:-\")\n",
    "b=input(\"b:-\")\n",
    "if a>b:\n",
    "    print(\"a is greater than b\")"
   ]
  },
  {
   "cell_type": "markdown",
   "metadata": {},
   "source": [
    "Note: 1)you should not forget to write (:) after if statements.<br>\n",
    "      2)you must take care of the indentation as it plays great role in python. "
   ]
  },
  {
   "cell_type": "markdown",
   "metadata": {},
   "source": [
    "### Indentation importance "
   ]
  },
  {
   "cell_type": "code",
   "execution_count": 2,
   "metadata": {},
   "outputs": [
    {
     "ename": "IndentationError",
     "evalue": "expected an indented block (<ipython-input-2-61eee28fc357>, line 2)",
     "output_type": "error",
     "traceback": [
      "\u001b[1;36m  File \u001b[1;32m\"<ipython-input-2-61eee28fc357>\"\u001b[1;36m, line \u001b[1;32m2\u001b[0m\n\u001b[1;33m    print(\"1 is greater than 0\")  ## here the indentation of the print statement is not proper\u001b[0m\n\u001b[1;37m        ^\u001b[0m\n\u001b[1;31mIndentationError\u001b[0m\u001b[1;31m:\u001b[0m expected an indented block\n"
     ]
    }
   ],
   "source": [
    "if (1>0): \n",
    "print(\"1 is greater than 0\")  ## here the indentation of the print statement is not proper\n",
    " ## statements that are to be executed when the condition is true should be kept inside the if statement."
   ]
  },
  {
   "cell_type": "code",
   "execution_count": 3,
   "metadata": {},
   "outputs": [
    {
     "name": "stdout",
     "output_type": "stream",
     "text": [
      "1 is greater than 0\n"
     ]
    }
   ],
   "source": [
    "if (1>0):\n",
    "    print(\"1 is greater than 0\")"
   ]
  },
  {
   "cell_type": "markdown",
   "metadata": {},
   "source": [
    "## else statements"
   ]
  },
  {
   "cell_type": "markdown",
   "metadata": {},
   "source": [
    "## example"
   ]
  },
  {
   "cell_type": "code",
   "execution_count": 5,
   "metadata": {},
   "outputs": [
    {
     "name": "stdout",
     "output_type": "stream",
     "text": [
      "a:-4\n",
      "b:-5\n",
      "5 is greater than 4\n"
     ]
    }
   ],
   "source": [
    "a=input(\"a:-\")\n",
    "b=input(\"b:-\")\n",
    "if a>b:\n",
    "    print(f\"{a} is greater than {b}\")\n",
    "else:\n",
    "    print(f\"{b} is greater than {a}\")\n",
    "    "
   ]
  },
  {
   "cell_type": "markdown",
   "metadata": {},
   "source": [
    "## PROGRAM TO CHECK WHETHER THE STRING IS PALINDROME OR NOT"
   ]
  },
  {
   "cell_type": "code",
   "execution_count": 6,
   "metadata": {},
   "outputs": [
    {
     "name": "stdout",
     "output_type": "stream",
     "text": [
      "palindrome\n"
     ]
    }
   ],
   "source": [
    "str1 = 'noon'\n",
    "st =\"\".join(reversed(str1))    \n",
    "str1=str1.lower();st=st.lower()\n",
    "if(str1==st):\n",
    "    print(\"palindrome\")\n",
    "else:\n",
    "    print(\"not a palindrome\")"
   ]
  },
  {
   "cell_type": "markdown",
   "metadata": {},
   "source": [
    "## inline if "
   ]
  },
  {
   "cell_type": "markdown",
   "metadata": {},
   "source": [
    "## example"
   ]
  },
  {
   "cell_type": "code",
   "execution_count": 7,
   "metadata": {},
   "outputs": [
    {
     "name": "stdout",
     "output_type": "stream",
     "text": [
      "a:-5000\n",
      "b:-4000\n",
      "5000 is greater than 4000\n"
     ]
    }
   ],
   "source": [
    "a=input(\"a:-\")\n",
    "b=input(\"b:-\")\n",
    "           #true                                    #false\n",
    "print(f\"{a} is greater than {b}\" if a>b else f\"{b} is greater than {a}\")"
   ]
  },
  {
   "cell_type": "markdown",
   "metadata": {},
   "source": [
    "## example"
   ]
  },
  {
   "cell_type": "code",
   "execution_count": 8,
   "metadata": {},
   "outputs": [
    {
     "name": "stdout",
     "output_type": "stream",
     "text": [
      "a:-40\n",
      "b:-55\n",
      "55 is greater than 40\n"
     ]
    }
   ],
   "source": [
    "a=input(\"a:-\")\n",
    "b=input(\"b:-\")\n",
    "            #false                       #true\n",
    "print((f\"{b} is greater than {a}\",f\"{a} is greater than {b}\") [a>b])\n",
    "       "
   ]
  },
  {
   "cell_type": "markdown",
   "metadata": {},
   "source": [
    "## elif statements"
   ]
  },
  {
   "cell_type": "markdown",
   "metadata": {},
   "source": [
    "## example"
   ]
  },
  {
   "cell_type": "code",
   "execution_count": 9,
   "metadata": {},
   "outputs": [
    {
     "name": "stdout",
     "output_type": "stream",
     "text": [
      "a:-5\n",
      "b:-5\n",
      "5 is equals to 5\n"
     ]
    }
   ],
   "source": [
    "a=input(\"a:-\")\n",
    "b=input(\"b:-\")\n",
    "if a>b:\n",
    "    print(f\"{a} is greater than {b}\")\n",
    "elif b>a:\n",
    "    print(f\"{b} is greater than {a}\")\n",
    "else:\n",
    "    print(f\"{a} is equals to {b}\")"
   ]
  },
  {
   "cell_type": "markdown",
   "metadata": {},
   "source": [
    "## Nested if statements"
   ]
  },
  {
   "cell_type": "markdown",
   "metadata": {},
   "source": [
    "if statement inside another if statement is known as nested if statement"
   ]
  },
  {
   "cell_type": "markdown",
   "metadata": {},
   "source": [
    "## example"
   ]
  },
  {
   "cell_type": "code",
   "execution_count": 13,
   "metadata": {},
   "outputs": [
    {
     "name": "stdout",
     "output_type": "stream",
     "text": [
      "a:-5\n",
      "b:-5\n",
      "c:-5\n",
      "5 is equals to 5 is equals to 5\n"
     ]
    }
   ],
   "source": [
    "a=input(\"a:-\")\n",
    "b=input(\"b:-\")\n",
    "c=input(\"c:-\")\n",
    "if a>b:\n",
    "    if a>c:\n",
    "        print(\"{} is greatest\".format(a))\n",
    "elif b>a:\n",
    "    if b>c:\n",
    "        print(\"{} is greatest\".format(b))\n",
    "elif c>a:\n",
    "    if c>b:\n",
    "        print(\"{} is greatest\".format(c))\n",
    "else:\n",
    "    print(\"{} is equals to {} is equals to {}\".format(a,b,c))"
   ]
  },
  {
   "cell_type": "markdown",
   "metadata": {},
   "source": [
    "# Looping Statements"
   ]
  },
  {
   "cell_type": "markdown",
   "metadata": {},
   "source": [
    "## for statement"
   ]
  },
  {
   "cell_type": "markdown",
   "metadata": {},
   "source": [
    "for statement executes the statement inside it for user specified times"
   ]
  },
  {
   "cell_type": "markdown",
   "metadata": {},
   "source": [
    "Here we use a built-in function range() to specify the how many times the statements is to be executed"
   ]
  },
  {
   "cell_type": "code",
   "execution_count": 14,
   "metadata": {},
   "outputs": [
    {
     "name": "stdout",
     "output_type": "stream",
     "text": [
      "i= 0\n",
      "i= 2\n",
      "i= 4\n",
      "i= 6\n",
      "i= 8\n",
      "i= 10\n",
      "i= 12\n",
      "i= 14\n",
      "i= 16\n",
      "i= 18\n",
      "i= 20\n"
     ]
    }
   ],
   "source": [
    "## print even numbers from 0 to 20\n",
    "for i in range(0,21,2): ## range(initial,final+1,step)\n",
    "    print(\"i=\",i)       ##here value of i increases by 2 from 0 to 20"
   ]
  },
  {
   "cell_type": "code",
   "execution_count": 15,
   "metadata": {},
   "outputs": [
    {
     "name": "stdout",
     "output_type": "stream",
     "text": [
      "Hello python\n",
      "i= 0\n",
      "Hello python\n",
      "i= 1\n",
      "Hello python\n",
      "i= 2\n",
      "Hello python\n",
      "i= 3\n",
      "Hello python\n",
      "i= 4\n",
      "Hello python\n",
      "i= 5\n",
      "Hello python\n",
      "i= 6\n",
      "Hello python\n",
      "i= 7\n",
      "Hello python\n",
      "i= 8\n",
      "Hello python\n",
      "i= 9\n"
     ]
    }
   ],
   "source": [
    "## print \"hello python\" 10 times.\n",
    "for i in range(10):       ##here for loop is used and the value of i ranges from 0to 9 .\n",
    "    print(\"Hello python\") ## this print statement is executed for 10 times .\n",
    "    print(\"i=\",i)   ## here value of i changes in each loop inceasing by 1 from 0 to 9"
   ]
  },
  {
   "cell_type": "markdown",
   "metadata": {},
   "source": [
    "## for loop in list"
   ]
  },
  {
   "cell_type": "markdown",
   "metadata": {},
   "source": [
    "we can easily loop through the items of the list using the for loop "
   ]
  },
  {
   "cell_type": "code",
   "execution_count": 16,
   "metadata": {},
   "outputs": [
    {
     "name": "stdout",
     "output_type": "stream",
     "text": [
      "name=cow length=3\n",
      "name=dog length=3\n",
      "name=goat length=4\n"
     ]
    }
   ],
   "source": [
    "## counting the length of words in list \n",
    "animals=[\"cow\",\"dog\",\"goat\"]  ## here we are assigning the items in the list as animal names.\n",
    "for i in animals:  ## here the for loop iterates through the items of list. \n",
    "    print(f\"name={i} length={len(i)}\") ## len is a built-in function that counts the items returns the integer."
   ]
  },
  {
   "cell_type": "markdown",
   "metadata": {},
   "source": [
    "## use of continue in  for loop"
   ]
  },
  {
   "cell_type": "code",
   "execution_count": 17,
   "metadata": {},
   "outputs": [
    {
     "name": "stdout",
     "output_type": "stream",
     "text": [
      "Even number= 2\n",
      "Odd number= 3\n",
      "Even number= 4\n",
      "Odd number= 5\n",
      "Even number= 6\n",
      "Odd number= 7\n",
      "Even number= 8\n",
      "Odd number= 9\n",
      "Even number= 10\n"
     ]
    }
   ],
   "source": [
    "## print even and odd number from 2 to 10.\n",
    "for num in range(2, 11): ## here the loop iterates through 2 to 10 increased by 1\n",
    "    if num % 2 == 0:    ## checking if the number is even or not\n",
    "        print(\"Even number=\", num) ## if the number is even then this statement executes \n",
    "        continue       ## continue continues the loop skiping the statement from the point it is encountered. \n",
    "    print(\"Odd number=\", num) ## here if if statement is not executed then this print statement is executed "
   ]
  },
  {
   "cell_type": "markdown",
   "metadata": {},
   "source": [
    "## use of break in for loop"
   ]
  },
  {
   "cell_type": "markdown",
   "metadata": {},
   "source": [
    "search user inputted name of fruit in the list"
   ]
  },
  {
   "cell_type": "code",
   "execution_count": 19,
   "metadata": {},
   "outputs": [
    {
     "name": "stdout",
     "output_type": "stream",
     "text": [
      "enter the name of fruit:-apple\n",
      "apple found\n"
     ]
    }
   ],
   "source": [
    "bucket=[\"apple\",\"mango\",\"orange\"]\n",
    "name=input(\"enter the name of fruit:-\")\n",
    "for i in bucket:\n",
    "    if i==name.lower():\n",
    "        print(f\"{i} found\")  ## formatted print statement\n",
    "        break   ## break exits the loop and executes the statements outside the loop \n",
    "else:           ## this else executes when the break statement is not executed\n",
    "    print(f\"{name} not found\")  ## formatted print statement\n",
    "        "
   ]
  },
  {
   "cell_type": "markdown",
   "metadata": {},
   "source": [
    "## for loop in string"
   ]
  },
  {
   "cell_type": "code",
   "execution_count": 20,
   "metadata": {},
   "outputs": [
    {
     "name": "stdout",
     "output_type": "stream",
     "text": [
      "H-e-l-l-o- -p-y-t-h-o-n-"
     ]
    }
   ],
   "source": [
    "name = \"Hello python\" \n",
    "for element in name: ## iterates through the letters in the string\n",
    "    print(element, end='-')  ## end is built-in function to specify the ending character. "
   ]
  },
  {
   "cell_type": "markdown",
   "metadata": {},
   "source": [
    "## while statement in Python"
   ]
  },
  {
   "cell_type": "markdown",
   "metadata": {},
   "source": [
    "add the numbers from 0 to 9"
   ]
  },
  {
   "cell_type": "code",
   "execution_count": 21,
   "metadata": {},
   "outputs": [
    {
     "name": "stdout",
     "output_type": "stream",
     "text": [
      "n= 0\n",
      "n= 1\n",
      "n= 2\n",
      "n= 3\n",
      "n= 4\n",
      "n= 5\n",
      "n= 6\n",
      "n= 7\n",
      "n= 8\n",
      "n= 9\n",
      "The sum is :- 45\n"
     ]
    }
   ],
   "source": [
    "sum=0;n=0  ## initializing the values \n",
    "while (n<10): ## this continues the loop if the value of n is less than 10\n",
    "    print(\"n=\",n)\n",
    "    sum=sum+n\n",
    "    n+=1       ## increasing the value of n by 1\n",
    "print(\"The sum is :-\",sum)    "
   ]
  },
  {
   "cell_type": "markdown",
   "metadata": {},
   "source": [
    "## use of continue in while loop"
   ]
  },
  {
   "cell_type": "code",
   "execution_count": 22,
   "metadata": {},
   "outputs": [
    {
     "name": "stdout",
     "output_type": "stream",
     "text": [
      "n= 0\n",
      "n= 1\n",
      "n= 2\n",
      "n= 3\n",
      "n= 4\n",
      "n= 6\n",
      "n= 7\n",
      "n= 8\n",
      "n= 9\n"
     ]
    }
   ],
   "source": [
    "## print number from 0 to 9 without 5\n",
    "n=0 ## assaigning the value to n\n",
    "while (n<10): ## loop iterates until the value of n is less than 10\n",
    "    if n==5:\n",
    "        n+=1\n",
    "        continue ## if value of n=5 then print statement is skipped so 5 will not be printed,loop continues next iteration\n",
    "    print('n=',n) \n",
    "    n+=1\n",
    "                \n",
    "        "
   ]
  },
  {
   "cell_type": "markdown",
   "metadata": {},
   "source": [
    "## use of break  in while loop"
   ]
  },
  {
   "cell_type": "code",
   "execution_count": 23,
   "metadata": {},
   "outputs": [
    {
     "name": "stdout",
     "output_type": "stream",
     "text": [
      "n= 0\n",
      "n= 1\n",
      "n= 2\n",
      "n= 3\n",
      "n= 4\n"
     ]
    }
   ],
   "source": [
    "n=0 ## assaigning the value to n\n",
    "while (n<10): ## loop iterates until the value of n is less than 10\n",
    "    if n==5:\n",
    "        break ## if value of n=5 then the loop exits ,so numbers after 5 will not be printed\n",
    "    print(\"n=\",n)\n",
    "    n+=1"
   ]
  },
  {
   "cell_type": "markdown",
   "metadata": {},
   "source": [
    "# List Comprehension in Python"
   ]
  },
  {
   "cell_type": "raw",
   "metadata": {},
   "source": [
    "list compreshension provides a concise way to create a list.\n",
    "The syntax for list comprehension are:\n",
    "[exp for i in list]\n",
    "\n",
    "[exp for i in list if <test>]"
   ]
  },
  {
   "cell_type": "code",
   "execution_count": 24,
   "metadata": {},
   "outputs": [
    {
     "name": "stdout",
     "output_type": "stream",
     "text": [
      "ram\n",
      "hari\n",
      "krishna\n"
     ]
    }
   ],
   "source": [
    "## program without using list comprehension\n",
    "## print each item of list\n",
    "lst = ['ram','hari','krishna']\n",
    "for i in range(0,len(lst)):\n",
    "    print(lst[i])"
   ]
  },
  {
   "cell_type": "code",
   "execution_count": 25,
   "metadata": {},
   "outputs": [
    {
     "data": {
      "text/plain": [
       "['ram', 'hari', 'krishna']"
      ]
     },
     "execution_count": 25,
     "metadata": {},
     "output_type": "execute_result"
    }
   ],
   "source": [
    "## program using list comprehension\n",
    "[name for name in lst]"
   ]
  },
  {
   "cell_type": "code",
   "execution_count": 26,
   "metadata": {},
   "outputs": [
    {
     "name": "stdout",
     "output_type": "stream",
     "text": [
      "[2, 4, 8, 10]\n"
     ]
    }
   ],
   "source": [
    "## program to print the twice of number if it is positive\n",
    "\n",
    "lst1 = [1,-1,2,-3,4,5]\n",
    "\n",
    "new_lst1 = [item*2 for item in lst1 if item >= 0]\n",
    "\n",
    "print(new_lst1)"
   ]
  },
  {
   "cell_type": "markdown",
   "metadata": {},
   "source": [
    "# Dictionary Comprehension in Python"
   ]
  },
  {
   "cell_type": "code",
   "execution_count": 27,
   "metadata": {},
   "outputs": [
    {
     "name": "stdout",
     "output_type": "stream",
     "text": [
      "a 1\n",
      "b 2\n",
      "c 3\n"
     ]
    }
   ],
   "source": [
    "#Dict comprehensions are just like list comprehensions but for dictionaries\n",
    "## print each item of dictionary\n",
    "d = {'a': 1, 'b': 2, 'c': 3}\n",
    "for i,j in d.items():\n",
    "    print(i,j)"
   ]
  },
  {
   "cell_type": "code",
   "execution_count": 28,
   "metadata": {},
   "outputs": [
    {
     "data": {
      "text/plain": [
       "[('a', 1), ('b', 2), ('c', 3)]"
      ]
     },
     "execution_count": 28,
     "metadata": {},
     "output_type": "execute_result"
    }
   ],
   "source": [
    "## program using dictionary comprehension\n",
    "[i for i in d.items()]"
   ]
  },
  {
   "cell_type": "code",
   "execution_count": 29,
   "metadata": {},
   "outputs": [
    {
     "name": "stdout",
     "output_type": "stream",
     "text": [
      "{'c': 3, 'd': 4}\n"
     ]
    }
   ],
   "source": [
    "#Creating a new dictionary with only pairs where the value is larger than 2\n",
    "d = {'a': 1, 'b': 2, 'c': 3, 'd': 4}\n",
    "new_dict = {k:v for k, v in d.items() if v > 2}\n",
    "print(new_dict)"
   ]
  },
  {
   "cell_type": "markdown",
   "metadata": {},
   "source": [
    "# How enumerate() works in Python?"
   ]
  },
  {
   "cell_type": "markdown",
   "metadata": {},
   "source": [
    "The enumerate() method adds counter to an iterable and returns it. The returned object is a enumerate object."
   ]
  },
  {
   "cell_type": "code",
   "execution_count": 30,
   "metadata": {},
   "outputs": [
    {
     "name": "stdout",
     "output_type": "stream",
     "text": [
      "<enumerate object at 0x000001A98B4B12D0>\n",
      "[(0, 'dell'), (1, 'lenovo'), (2, 'hp')]\n",
      "((10, 'dell'), (11, 'lenovo'), (12, 'hp'))\n"
     ]
    }
   ],
   "source": [
    "brands = ['dell', 'lenovo', 'hp']\n",
    "print(enumerate(brands))\n",
    "print(list(enumerate(brands))) ## here the counter starts by default from 0,list of enumerate objects are printed with counter\n",
    "print(tuple(enumerate(brands,10))) ## here the counter starts from 10 as provided,tuple of enumerate objects are printed with counter"
   ]
  },
  {
   "cell_type": "markdown",
   "metadata": {},
   "source": [
    "### Looping Over an Enumerate object"
   ]
  },
  {
   "cell_type": "code",
   "execution_count": 31,
   "metadata": {},
   "outputs": [
    {
     "name": "stdout",
     "output_type": "stream",
     "text": [
      "0 dell\n",
      "1 lenovo\n",
      "2 hp\n"
     ]
    }
   ],
   "source": [
    "for count,item in enumerate(brands):\n",
    "    print(count,item)  "
   ]
  },
  {
   "cell_type": "markdown",
   "metadata": {},
   "source": [
    "## Implementation of switch in python"
   ]
  },
  {
   "cell_type": "markdown",
   "metadata": {},
   "source": [
    "if the condition provided for switch statement is true then specific case statement is executed"
   ]
  },
  {
   "cell_type": "markdown",
   "metadata": {},
   "source": [
    "we don't have switch and case keyword in python so we do it by using dictionary mappings"
   ]
  },
  {
   "cell_type": "code",
   "execution_count": 32,
   "metadata": {
    "collapsed": true
   },
   "outputs": [],
   "source": [
    " def fruit(i): ## defining a function with name fruit and parameter as i\n",
    "        switcher={      ## defining a dictionary with with switcher\n",
    "                0:'apple',   ## assaigning key and value into the dictionary\n",
    "                1:'Mango',    ## assaigning key and value into the dictionary\n",
    "                2:'orange'    ## assaigning key and value into the dictionary\n",
    "                 }\n",
    "        return switcher.get(i,\"Invalid key\") ## returns the respective value for the user inputted key \n",
    "                                             ## if value of i does not belong to the key of dictionary then \"Invalid key\" is printed"
   ]
  },
  {
   "cell_type": "code",
   "execution_count": 33,
   "metadata": {},
   "outputs": [
    {
     "name": "stdout",
     "output_type": "stream",
     "text": [
      "orange\n"
     ]
    }
   ],
   "source": [
    "print(fruit(2)) ## calling a function by passing 2 as key value parameter, so orange is displayed."
   ]
  },
  {
   "cell_type": "markdown",
   "metadata": {},
   "source": [
    "# Python Object-Oriented Programming (OOP)"
   ]
  },
  {
   "cell_type": "markdown",
   "metadata": {},
   "source": [
    "Object-Oriented programming is a widely used concept to write powerful applications.<br>\n",
    "The concept of OOP in Python focuses on creating reusable code.<br>\n",
    "This concept is also known as DRY (Don't Repeat Yourself).<br>\n",
    "In this tutorial, you will discover the basics of object-oriented programming in Python.<br>\n",
    "OOP uses the concept of objects and classes.<br>\n",
    "These can have their own attributes (characteristics they possess), and methods (actions they perform)."
   ]
  },
  {
   "cell_type": "markdown",
   "metadata": {},
   "source": [
    "## How To Create Class In Python?"
   ]
  },
  {
   "cell_type": "markdown",
   "metadata": {},
   "source": [
    "Classes are used to create new user-defined data structures that contain arbitrary information about something.\n"
   ]
  },
  {
   "cell_type": "code",
   "execution_count": 35,
   "metadata": {
    "collapsed": true
   },
   "outputs": [],
   "source": [
    "class car:\n",
    "    pass"
   ]
  },
  {
   "cell_type": "markdown",
   "metadata": {},
   "source": [
    "## creating object "
   ]
  },
  {
   "cell_type": "code",
   "execution_count": 36,
   "metadata": {},
   "outputs": [
    {
     "name": "stdout",
     "output_type": "stream",
     "text": [
      "<__main__.car object at 0x000001A98B4AAF60>\n"
     ]
    }
   ],
   "source": [
    "class car:\n",
    "    pass\n",
    "obj=car()\n",
    "print(obj)"
   ]
  },
  {
   "cell_type": "markdown",
   "metadata": {},
   "source": [
    "## creating constructor"
   ]
  },
  {
   "cell_type": "code",
   "execution_count": 37,
   "metadata": {},
   "outputs": [
    {
     "name": "stdout",
     "output_type": "stream",
     "text": [
      "constructor\n"
     ]
    }
   ],
   "source": [
    "class car:\n",
    "    def __init__(self):  ## constructor\n",
    "        print(\"constructor\")\n",
    "obj=car()        "
   ]
  },
  {
   "cell_type": "raw",
   "metadata": {},
   "source": [
    "Note:- __init__ method gets called any time we create a new object, attaching it's atrributes to the object."
   ]
  },
  {
   "cell_type": "markdown",
   "metadata": {},
   "source": [
    "## Initializing and Accessing An Object's and Class's Attributes In Python"
   ]
  },
  {
   "cell_type": "code",
   "execution_count": 38,
   "metadata": {},
   "outputs": [
    {
     "data": {
      "text/plain": [
       "False"
      ]
     },
     "execution_count": 38,
     "metadata": {},
     "output_type": "execute_result"
    }
   ],
   "source": [
    "class car:\n",
    "    \n",
    "    category= \"vehicle\"   # class's atribute\n",
    "                        \n",
    "    def __init__(self,name,price): # constructor \n",
    "        \n",
    "        self.name=name            # object's attribute\n",
    "        self.price=price\n",
    "                         \n",
    "a=car(\"ford\",20000)  ## Here,\"a\" and \"b\" are two objects of the class \"car\" having unique attributes each.\n",
    "b=car(\"volvo\",50000)\n",
    "a==b  ## this shows that these two instances of class \"car\" are not same as the output is false."
   ]
  },
  {
   "cell_type": "code",
   "execution_count": 39,
   "metadata": {},
   "outputs": [
    {
     "name": "stdout",
     "output_type": "stream",
     "text": [
      "a:-name=ford,price=20000\n",
      "b:-name=volvo,price=50000\n",
      "category=vehicle,category=vehicle\n"
     ]
    }
   ],
   "source": [
    "print(f\"a:-name={a.name},price={a.price}\") ## accessing the name and price attributes of the object \"a\"\n",
    "print(f\"b:-name={b.name},price={b.price}\") ## accessing the name and price attributes of the object \"b\"\n",
    "print(f\"category={a.category},category={b.category}\") # same for both objects"
   ]
  },
  {
   "cell_type": "markdown",
   "metadata": {},
   "source": [
    "Both a and b have same category \"vehicle\",all the other objects of this class will have category as \"vehicle\"."
   ]
  },
  {
   "cell_type": "markdown",
   "metadata": {},
   "source": [
    "## Defining Instance Methods In Class"
   ]
  },
  {
   "cell_type": "markdown",
   "metadata": {},
   "source": [
    "Instance methods are defined inside a class and are used to get the contents of an instance.\n",
    "They can also be used to perform operations with the attributes of our objects."
   ]
  },
  {
   "cell_type": "code",
   "execution_count": 40,
   "metadata": {
    "collapsed": true
   },
   "outputs": [],
   "source": [
    "class car:\n",
    "                        \n",
    "    def __init__(self,name,price):\n",
    "        \n",
    "        self.name=name\n",
    "        self.price=price\n",
    "    \n",
    "    def describe(self): ## defining instance method of class \"car\".\n",
    "        return(f\"name={self.name}\\n   price={self.price}\") \n",
    "                         \n",
    "a=car(\"ford\",20000)  \n",
    "b=car(\"volvo\",50000)"
   ]
  },
  {
   "cell_type": "code",
   "execution_count": 41,
   "metadata": {},
   "outputs": [
    {
     "name": "stdout",
     "output_type": "stream",
     "text": [
      "a:-name=ford\n",
      "   price=20000\n",
      "b:-name=volvo\n",
      "   price=50000\n"
     ]
    }
   ],
   "source": [
    "print(f\"a:-{a.describe()}\\nb:-{b.describe()}\") ## Here,instance method describe() is called.\n",
    "                                               ## Displays the description of car with all the attributes ."
   ]
  },
  {
   "cell_type": "markdown",
   "metadata": {},
   "source": [
    "Note:- You might be wondering why we didn’t have to pass in the \"self\" argument?'.<br>\n",
    "     -> when you create a new instance of the class, \n",
    "        Python automatically determines what self is (\"car\" in this case) and passes it to the\n",
    "        __init__ method."
   ]
  },
  {
   "cell_type": "markdown",
   "metadata": {},
   "source": [
    "## Modifying Atributes Using instance Methods"
   ]
  },
  {
   "cell_type": "code",
   "execution_count": 42,
   "metadata": {
    "collapsed": true
   },
   "outputs": [],
   "source": [
    "class car:  \n",
    "                        \n",
    "    def __init__(self,name,price):\n",
    "        \n",
    "        self.name=name\n",
    "        self.price=price\n",
    "    \n",
    "    def describe(self): ## defining instance method of class \"car\".\n",
    "        return(f\"name={self.name}\\n   price={self.price}\") \n",
    "    \n",
    "    def discount(self,value): ## defining method in class \"car\" to change the \"price\" attribute.\n",
    "        self.price-=value\n",
    "                                  \n",
    "a=car(\"ford\",20000)  \n",
    "b=car(\"volvo\",50000)"
   ]
  },
  {
   "cell_type": "code",
   "execution_count": 43,
   "metadata": {},
   "outputs": [
    {
     "name": "stdout",
     "output_type": "stream",
     "text": [
      "a:-name=ford\n",
      "   price=15000\n",
      "b:-name=volvo\n",
      "   price=47000\n"
     ]
    }
   ],
   "source": [
    "a.discount(5000) ## calling discount() method for object \"a\" ,passing \"value\" as 5000\n",
    "b.discount(3000) ## calling discount() method for object \"b\" ,passing \"value\" as 3000\n",
    "print(f\"a:-{a.describe()}\\nb:-{b.describe()}\")"
   ]
  },
  {
   "cell_type": "markdown",
   "metadata": {},
   "source": [
    "## Python Object Inheritance"
   ]
  },
  {
   "cell_type": "markdown",
   "metadata": {},
   "source": [
    "Inheritance is the process by which one class takes the attributes and methods from another class.<br>\n",
    "Newly formed classes are called child classes, and the classes that child classes are derived from are called parent classes.<br>\n",
    "child classes inherit all of the parent’s attributes and behaviors but <br>\n",
    "child classes can also specify different behavior to follow."
   ]
  },
  {
   "cell_type": "code",
   "execution_count": 44,
   "metadata": {},
   "outputs": [
    {
     "name": "stdout",
     "output_type": "stream",
     "text": [
      "in class A\n",
      "in class B\n"
     ]
    }
   ],
   "source": [
    "#simple inheritance\n",
    "class A:              # parent class\n",
    "    def show(self):    \n",
    "        print(\"in class A\")\n",
    "class B(A):           # child class\n",
    "    def view(self):\n",
    "        print(\"in class B\")\n",
    "obj=B()             # object of child class B\n",
    "obj.show()          #accessing method of class A\n",
    "obj.view()          #accessing method of class B"
   ]
  },
  {
   "cell_type": "code",
   "execution_count": 45,
   "metadata": {},
   "outputs": [
    {
     "name": "stdout",
     "output_type": "stream",
     "text": [
      "in class A\n"
     ]
    }
   ],
   "source": [
    "# multilevel inheritance\n",
    "class A:\n",
    "    def a(self):\n",
    "        print(\"in class A\")\n",
    "class B(A):\n",
    "    pass\n",
    "class C(B):\n",
    "    pass\n",
    "obj=C()    # object of class C\n",
    "obj.a()    #accessing method of class A"
   ]
  },
  {
   "cell_type": "code",
   "execution_count": 46,
   "metadata": {},
   "outputs": [
    {
     "name": "stdout",
     "output_type": "stream",
     "text": [
      "in class A\n",
      "in class B\n"
     ]
    }
   ],
   "source": [
    "# multiple inheritance\n",
    "class A:        #parent class\n",
    "    def a(self):\n",
    "        print(\"in class A\")\n",
    "class B:        #parent class\n",
    "    def b(self):\n",
    "        print(\"in class B\")\n",
    "class C(A,B):    #child class\n",
    "    def c(self):\n",
    "        print(\"in class C\")  \n",
    "obj=C()      # object of class C\n",
    "obj.a()       #accessing method of class A\n",
    "obj.b()        #accessing method of class B"
   ]
  },
  {
   "cell_type": "markdown",
   "metadata": {},
   "source": [
    "## Using isinstance() Function"
   ]
  },
  {
   "cell_type": "markdown",
   "metadata": {},
   "source": [
    "This function determines if an object is the instance of any class. "
   ]
  },
  {
   "cell_type": "code",
   "execution_count": 47,
   "metadata": {},
   "outputs": [
    {
     "ename": "SyntaxError",
     "evalue": "invalid syntax (<ipython-input-47-df60a5d3d722>, line 1)",
     "output_type": "error",
     "traceback": [
      "\u001b[1;36m  File \u001b[1;32m\"<ipython-input-47-df60a5d3d722>\"\u001b[1;36m, line \u001b[1;32m1\u001b[0m\n\u001b[1;33m    isinstance(object,class) ## if the object is of the provided class then it returns true else false .\u001b[0m\n\u001b[1;37m                          ^\u001b[0m\n\u001b[1;31mSyntaxError\u001b[0m\u001b[1;31m:\u001b[0m invalid syntax\n"
     ]
    }
   ],
   "source": [
    "isinstance(object,class) ## if the object is of the provided class then it returns true else false ."
   ]
  },
  {
   "cell_type": "code",
   "execution_count": 48,
   "metadata": {
    "collapsed": true
   },
   "outputs": [],
   "source": [
    "class A:\n",
    "    pass\n",
    "class B:\n",
    "    pass\n",
    "obj1=A()\n",
    "obj2=B()"
   ]
  },
  {
   "cell_type": "code",
   "execution_count": 49,
   "metadata": {},
   "outputs": [
    {
     "name": "stdout",
     "output_type": "stream",
     "text": [
      "True\n",
      "True\n"
     ]
    }
   ],
   "source": [
    "print(isinstance(obj1,A)) ## obj1 is the instance of A\n",
    "print(isinstance(obj2,B)) ## obj2 is the instance of B"
   ]
  },
  {
   "cell_type": "markdown",
   "metadata": {},
   "source": [
    "##  Data Encapsulation in Python"
   ]
  },
  {
   "cell_type": "markdown",
   "metadata": {},
   "source": [
    "In OOP in python, we can restrict the access to methods and variables of the class.<br>\n",
    "This prevents the data from the modification.<br>\n",
    "we denote private attribute using underscore as prefix i.e double “ __“."
   ]
  },
  {
   "cell_type": "code",
   "execution_count": 50,
   "metadata": {},
   "outputs": [
    {
     "name": "stdout",
     "output_type": "stream",
     "text": [
      "name=ferrari\n",
      "price=20000\n"
     ]
    }
   ],
   "source": [
    "class car:\n",
    "    \n",
    "    def __init__(self,name,price):\n",
    "        self.name=name\n",
    "        self.__price=price\n",
    "        \n",
    "    def discount(self,price):\n",
    "        self.__price-=price\n",
    "        \n",
    "    def describe(self): \n",
    "        return(f\"name={self.name}\\nprice={self.__price}\")\n",
    "a=car(\"ferrari\",20000)\n",
    "print(a.describe())"
   ]
  },
  {
   "cell_type": "code",
   "execution_count": 51,
   "metadata": {},
   "outputs": [
    {
     "name": "stdout",
     "output_type": "stream",
     "text": [
      "name=ferrari\n",
      "price=20000\n"
     ]
    }
   ],
   "source": [
    "# unable to change the price as it is private attribute. \n",
    "a.__price=400\n",
    "print(a.describe())"
   ]
  },
  {
   "cell_type": "code",
   "execution_count": 52,
   "metadata": {},
   "outputs": [
    {
     "name": "stdout",
     "output_type": "stream",
     "text": [
      "name=ferrari\n",
      "price=19200\n"
     ]
    }
   ],
   "source": [
    "# changing price using function\n",
    "a.discount(800)\n",
    "print(a.describe())"
   ]
  },
  {
   "cell_type": "markdown",
   "metadata": {},
   "source": [
    "## Polymorphism in Python"
   ]
  },
  {
   "cell_type": "markdown",
   "metadata": {},
   "source": [
    "In OOP ,using polymorphism we can have many forms of methods and attributes<br>\n",
    "of one class in another class."
   ]
  },
  {
   "cell_type": "markdown",
   "metadata": {},
   "source": [
    "## Function Overriding In Class"
   ]
  },
  {
   "cell_type": "markdown",
   "metadata": {},
   "source": [
    "Function overriding is the process of using the same methods,attributes and behaviours of the parent class \n",
    "into the child class and modifying it."
   ]
  },
  {
   "cell_type": "code",
   "execution_count": 53,
   "metadata": {
    "collapsed": true
   },
   "outputs": [],
   "source": [
    "class car: ## parent class\n",
    "    \n",
    "    def category(self): \n",
    "        print(\"vehicle\")  ## method of parent class\n",
    "\n",
    "class f_car(car):  ## child class \"f_car\" inherited from parent class \"car\".                                                                                           ## in child class\n",
    "     def category(self):\n",
    "        print(\"not defined\")  ## category of \"car\" is overriden by \"f_car\" and modified.                             \n",
    "a=car()\n",
    "b=f_car()"
   ]
  },
  {
   "cell_type": "code",
   "execution_count": 54,
   "metadata": {},
   "outputs": [
    {
     "name": "stdout",
     "output_type": "stream",
     "text": [
      "vehicle\n",
      "not defined\n"
     ]
    }
   ],
   "source": [
    "a.category() \n",
    "b.category() "
   ]
  },
  {
   "cell_type": "markdown",
   "metadata": {},
   "source": [
    "## Function Overloading In Class"
   ]
  },
  {
   "cell_type": "code",
   "execution_count": 55,
   "metadata": {
    "collapsed": true
   },
   "outputs": [],
   "source": [
    "class car:\n",
    "    \n",
    "    def __init__(self,name,price):\n",
    "            self.name=name      \n",
    "            self.price=price\n",
    "            \n",
    "    def discount(self,value=None): ## overloading a function by setting other parameter as none except self. \n",
    "        if value!=None:\n",
    "            self.price-=value     \n",
    "            return(f\"name={self.name}\\n   price={self.price}\")\n",
    "        else:\n",
    "            return(f\"name={self.name}\\n   price={self.price}\")\n",
    "        \n",
    "    \n",
    "a=car(\"ferrari\",20000) "
   ]
  },
  {
   "cell_type": "code",
   "execution_count": 56,
   "metadata": {},
   "outputs": [
    {
     "name": "stdout",
     "output_type": "stream",
     "text": [
      "name=ferrari\n",
      "   price=20000\n",
      "name=ferrari\n",
      "   price=19800\n"
     ]
    }
   ],
   "source": [
    "print(a.discount())\n",
    "print(a.discount(200))"
   ]
  },
  {
   "cell_type": "markdown",
   "metadata": {},
   "source": [
    "# File Handling In Python"
   ]
  },
  {
   "cell_type": "markdown",
   "metadata": {},
   "source": [
    "Python language allows us to create,read and write to the files by using in-built function.\n",
    "Our programs need to read the information from the external files when we have to work with large ammount of information because it will not be practically convenient to ask user to input such a large ammount of information.\n"
   ]
  },
  {
   "cell_type": "markdown",
   "metadata": {},
   "source": [
    "## File Modes"
   ]
  },
  {
   "cell_type": "markdown",
   "metadata": {},
   "source": [
    "'r'-> This is the default mode. It Opens file for reading.<br>\n",
    "'w'-> This Mode Opens file for writing.<br>\n",
    "      If file does not exist, it creates a new file.<br>\n",
    "      If file exists it truncates the file.<br>\n",
    "'x'-> Creates a new file. If file already exists, the operation fails.<br>\n",
    "'a'-> Open file in append mode.<br>\n",
    "      If file does not exist, it creates a new file.<br>\n",
    "'t'-> This is the default mode. It opens in text mode.<br>\n",
    "'b'-> This opens in binary mode.<br>\n",
    "'+'-> This will open a file for reading and writing (updating)<br>"
   ]
  },
  {
   "cell_type": "markdown",
   "metadata": {},
   "source": [
    "## Creating A Text File Using Python"
   ]
  },
  {
   "cell_type": "code",
   "execution_count": 58,
   "metadata": {},
   "outputs": [
    {
     "name": "stdout",
     "output_type": "stream",
     "text": [
      "Enter the file name?:-texta\n"
     ]
    }
   ],
   "source": [
    "filename=input(\"Enter the file name?:-\") ## asking user to input the file name\n",
    "f= open(f\"{filename}.txt\",\"w+\") ## open keyword is used to open the files in different modes ,\n",
    "                                "
   ]
  },
  {
   "cell_type": "markdown",
   "metadata": {},
   "source": [
    "## Writing Into The Text File Using Python"
   ]
  },
  {
   "cell_type": "code",
   "execution_count": 59,
   "metadata": {},
   "outputs": [
    {
     "data": {
      "text/plain": [
       "12"
      ]
     },
     "execution_count": 59,
     "metadata": {},
     "output_type": "execute_result"
    }
   ],
   "source": [
    "f.write(\"hello python\") ## writting into the text file"
   ]
  },
  {
   "cell_type": "markdown",
   "metadata": {},
   "source": [
    "## Closing A Text File"
   ]
  },
  {
   "cell_type": "code",
   "execution_count": 60,
   "metadata": {
    "collapsed": true
   },
   "outputs": [],
   "source": [
    "f.close() ## closing the text file"
   ]
  },
  {
   "cell_type": "code",
   "execution_count": 61,
   "metadata": {},
   "outputs": [
    {
     "name": "stdout",
     "output_type": "stream",
     "text": [
      "Enter the file name?:-texta\n"
     ]
    }
   ],
   "source": [
    "filename=input(\"Enter the file name?:-\") ## asking user to input the file name\n",
    "                                         ## open keyword is used to open the files in different modes ,\n",
    "f= open(f\"{filename}.txt\",\"w+\") ## opening the file in writing and reading mode using \"w+\"\n",
    "                               \n",
    "f.write(\"hello python\")\n",
    "f.close()"
   ]
  },
  {
   "cell_type": "markdown",
   "metadata": {},
   "source": [
    "## Opening And Reading Text File"
   ]
  },
  {
   "cell_type": "code",
   "execution_count": 62,
   "metadata": {},
   "outputs": [
    {
     "name": "stdout",
     "output_type": "stream",
     "text": [
      "Enter the file name?:-texta\n",
      "hello python\n"
     ]
    }
   ],
   "source": [
    "filename=input(\"Enter the file name?:-\") ## asking user to input the file name\n",
    "f= open(f\"{filename}.txt\",\"r\") ## opening file in reading mode using \"r\"\n",
    "content=f.read() ## rerading the text of file and assaigning to content variable\n",
    "print(content) ## printing the content variable"
   ]
  },
  {
   "cell_type": "markdown",
   "metadata": {},
   "source": [
    "## Writing Multiple Lines Into Text File And Reading Each Line "
   ]
  },
  {
   "cell_type": "code",
   "execution_count": 63,
   "metadata": {},
   "outputs": [
    {
     "name": "stdout",
     "output_type": "stream",
     "text": [
      "Enter the filename?:-textb\n"
     ]
    }
   ],
   "source": [
    "## writing multiple lines to the  text file\n",
    "filename=input(\"Enter the filename?:-\")\n",
    "f= open(f\"{filename}.txt\",\"w+\")\n",
    "for i in range(10):  \n",
    "    f.write(f\"we are on line {i+1} \\n\")\n",
    "f.close()    "
   ]
  },
  {
   "cell_type": "markdown",
   "metadata": {},
   "source": [
    "## Reading Eachline Of Text File"
   ]
  },
  {
   "cell_type": "code",
   "execution_count": 64,
   "metadata": {},
   "outputs": [
    {
     "name": "stdout",
     "output_type": "stream",
     "text": [
      "Enter the filename?:-textb\n",
      "we are on line 1 \n",
      "\n",
      "we are on line 2 \n",
      "\n"
     ]
    }
   ],
   "source": [
    "filename=input(\"Enter the filename?:-\")\n",
    "f= open(f\"{filename}.txt\",\"r\")\n",
    "line1=f.readline() ## readline keyword reads text in a line and jumps the cursor to the next line\n",
    "line2=f.readline() \n",
    "print(f\"{line1}\\n{line2}\")\n",
    "f.close()    "
   ]
  },
  {
   "cell_type": "markdown",
   "metadata": {},
   "source": [
    "## Using For Loop To Read Text Files"
   ]
  },
  {
   "cell_type": "code",
   "execution_count": 66,
   "metadata": {},
   "outputs": [
    {
     "name": "stdout",
     "output_type": "stream",
     "text": [
      "Enter the filename?:-textb\n",
      "we are on line 1 \n",
      "we are on line 2 \n",
      "we are on line 3 \n",
      "we are on line 4 \n",
      "we are on line 5 \n",
      "we are on line 6 \n",
      "we are on line 7 \n",
      "we are on line 8 \n",
      "we are on line 9 \n",
      "we are on line 10 \n"
     ]
    }
   ],
   "source": [
    "## reading all the lines of the text file using for loop\n",
    "filename=input(\"Enter the filename?:-\")\n",
    "f= open(f\"{filename}.txt\",\"r\")\n",
    "for line in f:\n",
    "    print(line,end='')\n",
    "f.close()    "
   ]
  },
  {
   "cell_type": "markdown",
   "metadata": {},
   "source": [
    "## Appending Data To Text File"
   ]
  },
  {
   "cell_type": "code",
   "execution_count": 67,
   "metadata": {},
   "outputs": [
    {
     "name": "stdout",
     "output_type": "stream",
     "text": [
      "Enter the filename?:-textb\n"
     ]
    }
   ],
   "source": [
    "filename=input(\"Enter the filename?:-\")\n",
    "f= open(f\"{filename}.txt\",\"a+\") ## a indicates append mode and + indicates creating the new file if it doesn't exist.\n",
    "f.write(\"This is appended text\")\n",
    "f.close()"
   ]
  },
  {
   "cell_type": "markdown",
   "metadata": {},
   "source": [
    "# Automate File Creation and Deletion "
   ]
  },
  {
   "cell_type": "code",
   "execution_count": 70,
   "metadata": {
    "collapsed": true
   },
   "outputs": [],
   "source": [
    "for i in range(100):\n",
    "    f=open(f\"textc{i}.txt\",\"w+\")\n",
    "    f.write(f\"roll no:-{i}\")\n",
    "    f.close()"
   ]
  },
  {
   "cell_type": "code",
   "execution_count": 71,
   "metadata": {
    "collapsed": true
   },
   "outputs": [],
   "source": [
    "import os\n",
    "for i in range(100):\n",
    "    if os.path.exists(f\"textc{i}.txt\"):\n",
    "        os.remove(f\"textc{i}.txt\")\n",
    "    else:\n",
    "        print(\"unable to delete file.\")"
   ]
  },
  {
   "cell_type": "code",
   "execution_count": null,
   "metadata": {
    "collapsed": true
   },
   "outputs": [],
   "source": []
  }
 ],
 "metadata": {
  "kernelspec": {
   "display_name": "Python 3",
   "language": "python",
   "name": "python3"
  },
  "language_info": {
   "codemirror_mode": {
    "name": "ipython",
    "version": 3
   },
   "file_extension": ".py",
   "mimetype": "text/x-python",
   "name": "python",
   "nbconvert_exporter": "python",
   "pygments_lexer": "ipython3",
   "version": "3.6.2"
  }
 },
 "nbformat": 4,
 "nbformat_minor": 4
}

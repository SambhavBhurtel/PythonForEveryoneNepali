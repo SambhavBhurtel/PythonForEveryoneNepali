{
 "cells": [
  {
   "cell_type": "code",
   "execution_count": 1,
   "metadata": {
    "collapsed": true
   },
   "outputs": [],
   "source": [
    "from tkinter import *\n",
    "\n",
    "root = Tk()\n",
    "root.title(\"Simple Calculator\")\n",
    "root.configure(background=\"#a9a2a2\")\n",
    "\n",
    "display = Entry(root, relief=FLAT, font=(\"Al-Aramco\", 20))\n",
    "display.grid(row=0, column=0, columnspan=4, ipady=30)\n",
    "\n",
    "def putvalue(val):\n",
    "    display.insert(END, str(val))\n",
    "\n",
    "def clear():\n",
    "    display.delete(0,END)\n",
    "    \n",
    "def backspace():\n",
    "    display.delete((len(display.get())-1),END)\n",
    "    \n",
    "def set_op(op):\n",
    "    num = float(display.get())\n",
    "    global number1 \n",
    "    global operand\n",
    "    number1 = num\n",
    "    operand = str(op)\n",
    "    clear()\n",
    "    \n",
    "def perform_op():\n",
    "    number2 = float(display.get())\n",
    "    clear()\n",
    "    if operand == \"+\":\n",
    "        result = ((number1)+number2)\n",
    "    elif operand == \"-\":\n",
    "        result = ((number1)-number2)\n",
    "    elif operand == \"x\":\n",
    "        result = ((number1)*number2)\n",
    "    elif operand == \"/\":\n",
    "        result = ((number1)/number2)\n",
    "    \n",
    "    if number1%number2 == 0:\n",
    "        result = int(result)\n",
    "    \n",
    "    display.insert(0, result)\n",
    "    \n",
    "\n",
    "button_plus = Button(root, text=\"+\", relief=FLAT, background=\"#ece8e8\", activebackground=\"#c9c8c8\", font=(\"Al-Aramco\", 11, \"bold\"), command=lambda: set_op(\"+\")).grid(row=1,column=0,ipadx=24, ipady=10, padx=1, pady=1)\n",
    "button_minus = Button(root, text=\"-\", relief=FLAT, background=\"#ece8e8\", activebackground=\"#c9c8c8\", font=(\"Al-Aramco\", 11, \"bold\"), command=lambda: set_op(\"-\")).grid(row=1,column=1,ipadx=26, ipady=10, padx=1, pady=1)\n",
    "button_clear = Button(root, text=\"C\", relief=FLAT, background=\"#ece8e8\", activebackground=\"#c9c8c8\", font=(\"Al-Aramco\", 11, \"bold\"), command=clear).grid(row=1,column=2,ipadx=24, ipady=10, padx=1, pady=1)\n",
    "button_backspace = Button(root,text=\"<--\", relief=FLAT, background=\"#ece8e8\", activebackground=\"#c9c8c8\", font=(\"Al-Aramco\", 11, \"bold\"), command=backspace).grid(row=1,column=3, ipadx=20, ipady=10, padx=1, pady=1)\n",
    "\n",
    "button7 = Button(root, text=\"7\", relief=FLAT, background=\"#ece8e8\", activebackground=\"#c9c8c8\", font=(\"Al-Aramco\", 11, \"bold\"), command=lambda: putvalue(7)).grid(row=2,column=0, ipadx=25, ipady=10, padx=1, pady=1)\n",
    "button8 = Button(root, text=\"8\", relief=FLAT, background=\"#ece8e8\", activebackground=\"#c9c8c8\", font=(\"Al-Aramco\", 11, \"bold\"), command=lambda: putvalue(8)).grid(row=2,column=1, ipadx=25, ipady=10, padx=1, pady=1)\n",
    "button9 = Button(root, text=\"9\", relief=FLAT, background=\"#ece8e8\", activebackground=\"#c9c8c8\", font=(\"Al-Aramco\", 11, \"bold\"), command=lambda: putvalue(9)).grid(row=2,column=2, ipadx=26, ipady=10, padx=1, pady=1)\n",
    "button_multiply = Button(root, text=\"X\", relief=FLAT, background=\"#ece8e8\", activebackground=\"#c9c8c8\", font=(\"Al-Aramco\", 11, \"bold\"), command=lambda: set_op(\"x\")).grid(row=2,column=3, ipadx=25, ipady=10, padx=1, pady=1)\n",
    "\n",
    "button4 = Button(root, text=\"4\", relief=FLAT, background=\"#ece8e8\", activebackground=\"#c9c8c8\", font=(\"Al-Aramco\", 11, \"bold\"), command=lambda: putvalue(4)).grid(row=3,column=0, ipadx=25, ipady=10, padx=1, pady=1)\n",
    "button5 = Button(root, text=\"5\", relief=FLAT, background=\"#ece8e8\", activebackground=\"#c9c8c8\", font=(\"Al-Aramco\", 11, \"bold\"), command=lambda: putvalue(5)).grid(row=3,column=1, ipadx=25, ipady=10, padx=1, pady=1)\n",
    "button6 = Button(root, text=\"6\", relief=FLAT, background=\"#ece8e8\", activebackground=\"#c9c8c8\", font=(\"Al-Aramco\", 11, \"bold\"), command=lambda: putvalue(6)).grid(row=3,column=2, ipadx=26, ipady=10, padx=1, pady=1)\n",
    "button_divide = Button(root, text=\"/\", relief=FLAT, background=\"#ece8e8\", activebackground=\"#c9c8c8\", font=(\"Al-Aramco\", 11, \"bold\"), command=lambda: set_op(\"/\")).grid(row=3,column=3, ipadx=28, ipady=10, padx=1, pady=1)\n",
    "\n",
    "button1 = Button(root, text=\"1\", relief=FLAT, background=\"#ece8e8\", activebackground=\"#c9c8c8\", font=(\"Al-Aramco\", 11, \"bold\"), command=lambda: putvalue(1)).grid(row=4,column=0, ipadx=25, ipady=10, padx=1, pady=1)\n",
    "button2 = Button(root, text=\"2\", relief=FLAT, background=\"#ece8e8\", activebackground=\"#c9c8c8\", font=(\"Al-Aramco\", 11, \"bold\"), command=lambda: putvalue(2)).grid(row=4,column=1, ipadx=25, ipady=10, padx=1, pady=1)\n",
    "button3 = Button(root, text=\"3\", relief=FLAT, background=\"#ece8e8\", activebackground=\"#c9c8c8\", font=(\"Al-Aramco\", 11, \"bold\"), command=lambda: putvalue(3)).grid(row=4,column=2, ipadx=26, ipady=10, padx=1, pady=1)\n",
    "button_equal = Button(root, text=\"=\", relief=FLAT, background=\"#ece8e8\", activebackground=\"#c9c8c8\", font=(\"Al-Aramco\", 11, \"bold\"), command=perform_op).grid(row=4,column=3,rowspan=2, ipadx=25, ipady=37, padx=1, pady=1)\n",
    "\n",
    "button0 = Button(root, text=\"0\", relief=FLAT, background=\"#ece8e8\", activebackground=\"#c9c8c8\", font=(\"Al-Aramco\", 11, \"bold\"), command=lambda: putvalue(0)).grid(row=5,column=0, columnspan=2, ipadx=62, ipady=10, padx=1, pady=1)\n",
    "button_point = Button(root, text=\".\", relief=FLAT, background=\"#ece8e8\", activebackground=\"#c9c8c8\", font=(\"Al-Aramco\", 11, \"bold\"), command=lambda: putvalue(\".\")).grid(row=5,column=2, ipadx=28, ipady=10, padx=1, pady=1)\n",
    "\n",
    "\n",
    "root.mainloop()"
   ]
  },
  {
   "cell_type": "code",
   "execution_count": null,
   "metadata": {
    "collapsed": true
   },
   "outputs": [],
   "source": []
  }
 ],
 "metadata": {
  "kernelspec": {
   "display_name": "Python 3",
   "language": "python",
   "name": "python3"
  },
  "language_info": {
   "codemirror_mode": {
    "name": "ipython",
    "version": 3
   },
   "file_extension": ".py",
   "mimetype": "text/x-python",
   "name": "python",
   "nbconvert_exporter": "python",
   "pygments_lexer": "ipython3",
   "version": "3.6.2"
  }
 },
 "nbformat": 4,
 "nbformat_minor": 2
}
